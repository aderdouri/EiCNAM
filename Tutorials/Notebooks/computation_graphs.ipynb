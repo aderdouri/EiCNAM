{
 "cells": [
  {
   "cell_type": "markdown",
   "metadata": {
    "id": "WsiX23cihPp2"
   },
   "source": [
    "## Différentaition automatique."
   ]
  },
  {
   "cell_type": "markdown",
   "metadata": {
    "id": "Q_NY5BA1hPp5"
   },
   "source": [
    "[![Open in Colab](https://colab.research.google.com/assets/colab-badge.svg)](https://colab.research.google.com/github/aderdouri/EiCNAM/blob/master/Tutorials/Notebooks/computation_graphs.ipynb) [![Open In Studio Lab](https://studiolab.sagemaker.aws/studiolab.svg)](https://studiolab.sagemaker.aws/import/github/aderdouri/EiCNAM/blob/master/Tutorials/Notebooks/computation_graphs.ipynb)"
   ]
  },
  {
   "cell_type": "code",
   "execution_count": 13,
   "metadata": {
    "id": "JF0soFIzmSWe"
   },
   "outputs": [],
   "source": [
    "import tensorflow as tf\n",
    "from tensorflow_probability import distributions as tfd\n",
    "import math\n",
    "import numpy as np"
   ]
  },
  {
   "cell_type": "markdown",
   "metadata": {
    "id": "zNuY6afnhPp5"
   },
   "source": [
    "### Formula:\n",
    "$$\n",
    "z = \\cos\\left(a_0 + \\exp(a_1)\\right)\\left(\\sin(a_2) + \\cos(a_3)\\right) + (a_1)^{\\frac{3}{2}} + a_3\n",
    "$$\n"
   ]
  },
  {
   "cell_type": "code",
   "execution_count": 1,
   "metadata": {
    "colab": {
     "base_uri": "https://localhost:8080/"
    },
    "id": "MNbZN6VEhPp6",
    "outputId": "5b617f8f-88b8-4017-cd9e-f7f6df74e8be"
   },
   "outputs": [
    {
     "name": "stdout",
     "output_type": "stream",
     "text": [
      "Computed Gradients:\n",
      "a0: 0.440888\n",
      "a1: 5.379070\n",
      "a2: 0.504802\n",
      "a3: 0.614102\n"
     ]
    }
   ],
   "source": [
    "# Define the variables\n",
    "variables = {\n",
    "    \"a0\": tf.Variable(1.0, dtype=tf.float32),\n",
    "    \"a1\": tf.Variable(2.0, dtype=tf.float32),\n",
    "    \"a2\": tf.Variable(3.0, dtype=tf.float32),\n",
    "    \"a3\": tf.Variable(4.0, dtype=tf.float32),\n",
    "}\n",
    "\n",
    "# Define the function\n",
    "def func(a0, a1, a2, a3):\n",
    "    return tf.cos(a0 + tf.exp(a1)) * (tf.sin(a2) + tf.cos(a3)) + tf.pow(a1, 1.5) + a3\n",
    "\n",
    "# Calculate the gradient\n",
    "with tf.GradientTape() as tape:\n",
    "    tape.watch(list(variables.values()))  # Watch the variables\n",
    "    z = func(*variables.values())\n",
    "\n",
    "# Compute gradients\n",
    "grads = tape.gradient(z, list(variables.values()))\n",
    "\n",
    "# Display gradients as a dictionary\n",
    "gradient_dict = {name: float(grad.numpy()) for name, grad in zip(variables.keys(), grads)}\n",
    "print(\"Computed Gradients:\")\n",
    "for var, grad in gradient_dict.items():\n",
    "    print(f\"{var}: {grad:.6f}\")\n"
   ]
  },
  {
   "cell_type": "markdown",
   "metadata": {
    "id": "6zl0cpeKhPp8"
   },
   "source": [
    "### Black-Scholes Formula\n",
    "\n",
    "The Black-Scholes formula for the price of a European call option is given by:\n",
    "\n",
    "$$\n",
    "C(S, t) = S\\Phi(d_1) - Ke^{-r(T-t)}\\Phi(d_2),\n",
    "$$\n",
    "\n",
    "where:\n",
    "\n",
    "$$\n",
    "d_1 = \\frac{\\ln(S/K) + \\left(r + \\frac{\\sigma^2}{2}\\right)(T-t)}{\\sigma\\sqrt{T-t}}, \\quad\n",
    "d_2 = d_1 - \\sigma\\sqrt{T-t}.\n",
    "$$\n",
    "\n",
    "#### Parameters:\n",
    "- C(S, t)\\): Call option price at time \\(t\\),\n",
    "- \\(S\\): Current price of the underlying asset,\n",
    "- \\(K\\): Strike price of the option,\n",
    "- \\(r\\): Risk-free interest rate,\n",
    "- \\(\\sigma\\): Volatility of the underlying asset,\n",
    "- \\(T\\): Time to maturity,\n",
    "- \\($\\Phi$($\\cdot$)\\): Cumulative distribution function of the standard normal distribution.\n"
   ]
  },
  {
   "cell_type": "markdown",
   "metadata": {
    "id": "umFeUOzQhPp8"
   },
   "source": []
  },
  {
   "cell_type": "code",
   "execution_count": 2,
   "metadata": {
    "colab": {
     "base_uri": "https://localhost:8080/"
    },
    "id": "dYKKjrB7hPp8",
    "outputId": "b6b1335d-33f2-4971-f7cf-40e04c0c805b"
   },
   "outputs": [
    {
     "name": "stdout",
     "output_type": "stream",
     "text": [
      "Option Price: 9.423363\n",
      "Delta (∂C/∂S): 0.599088\n",
      "Vega (∂C/∂σ): 38.657257\n",
      "Theta (∂C/∂T): 6.389997\n",
      "Rho (∂C/∂r): 50.485420\n"
     ]
    }
   ],
   "source": [
    "# Define the Black-Scholes formula as a function\n",
    "def black_scholes(S, K, r, sigma, T, option_type=\"call\"):\n",
    "    \"\"\"\n",
    "    S: Current stock price\n",
    "    K: Strike price\n",
    "    r: Risk-free rate\n",
    "    sigma: Volatility\n",
    "    T: Time to maturity\n",
    "    option_type: \"call\" or \"put\"\n",
    "    \"\"\"\n",
    "    d1 = (tf.math.log(S / K) + (r + 0.5 * sigma**2) * T) / (sigma * tf.sqrt(T))\n",
    "    d2 = d1 - sigma * tf.sqrt(T)\n",
    "\n",
    "    if option_type == \"call\":\n",
    "        price = S * tfp.distributions.Normal(0.0, 1.0).cdf(d1) - K * tf.exp(-r * T) * tfp.distributions.Normal(0.0, 1.0).cdf(d2)\n",
    "    elif option_type == \"put\":\n",
    "        price = K * tf.exp(-r * T) * tfp.distributions.Normal(0.0, 1.0).cdf(-d2) - S * tfp.distributions.Normal(0.0, 1.0).cdf(-d1)\n",
    "    else:\n",
    "        raise ValueError(\"Invalid option_type. Choose 'call' or 'put'.\")\n",
    "    return price\n",
    "\n",
    "# Parameters\n",
    "S = tf.Variable(100.0)  # Stock price\n",
    "K = tf.Variable(102.0)  # Strike price\n",
    "r = tf.Variable(0.05)   # Risk-free rate\n",
    "sigma = tf.Variable(0.2)  # Volatility\n",
    "T = tf.Variable(1.0)    # Time to maturity\n",
    "\n",
    "# Calculate the derivatives (Greeks) using TensorFlow's GradientTape\n",
    "with tf.GradientTape(persistent=True) as tape:\n",
    "    tape.watch([S, K, r, sigma, T])  # Watch all inputs\n",
    "    price = black_scholes(S, K, r, sigma, T)\n",
    "\n",
    "# Compute the Greeks\n",
    "delta = tape.gradient(price, S)   # Sensitivity to stock price\n",
    "vega = tape.gradient(price, sigma)  # Sensitivity to volatility\n",
    "theta = tape.gradient(price, T)   # Sensitivity to time to maturity\n",
    "rho = tape.gradient(price, r)     # Sensitivity to risk-free rate\n",
    "\n",
    "# Display the results\n",
    "print(f\"Option Price: {price.numpy():.6f}\")\n",
    "print(f\"Delta (∂C/∂S): {delta.numpy():.6f}\")\n",
    "print(f\"Vega (∂C/∂σ): {vega.numpy():.6f}\")\n",
    "print(f\"Theta (∂C/∂T): {theta.numpy():.6f}\")\n",
    "print(f\"Rho (∂C/∂r): {rho.numpy():.6f}\")\n"
   ]
  },
  {
   "cell_type": "code",
   "execution_count": 63,
   "metadata": {
    "id": "gwuOgtckFhTn"
   },
   "outputs": [],
   "source": [
    "import tensorflow as tf\n",
    "from tensorflow_probability import distributions as tfd\n",
    "\n",
    "# Constants\n",
    "Z_RANGE = 1e-6  # Threshold for small z\n",
    "\n",
    "# Normal CDF function\n",
    "def normal_cdf(x):\n",
    "    \"\"\"Compute the CDF of the standard normal distribution.\"\"\"\n",
    "    normal = tfd.Normal(loc=0.0, scale=1.0)\n",
    "    return normal.cdf(x)\n",
    "\n",
    "# Black-Scholes Price Function\n",
    "def bs_price(forward, volatility, numeraire, strike, expiry, is_call=True):\n",
    "    \"\"\"\n",
    "    Compute the Black-Scholes price for a European option.\n",
    "\n",
    "    Args:\n",
    "    - forward: Forward price\n",
    "    - volatility: Volatility of the underlying asset\n",
    "    - numeraire: Discount factor\n",
    "    - strike: Strike price\n",
    "    - expiry: Time to expiry\n",
    "    - is_call: Boolean, True for call option, False for put option\n",
    "\n",
    "    Returns:\n",
    "    - Option price as a TensorFlow tensor\n",
    "    \"\"\"\n",
    "    period_volatility = volatility * tf.sqrt(expiry)\n",
    "    d_plus = tf.math.log(forward / strike) / period_volatility + 0.5 * period_volatility\n",
    "    d_minus = d_plus - period_volatility\n",
    "    omega = tf.where(is_call, 1.0, -1.0)\n",
    "    n_plus = normal_cdf(omega * d_plus)\n",
    "    n_minus = normal_cdf(omega * d_minus)\n",
    "    price = numeraire * omega * (forward * n_plus - strike * n_minus)\n",
    "    return price\n",
    "\n",
    "\n",
    "# SABR Volatility Function\n",
    "def sabr_volatility(forward, alpha, beta, rho, nu, strike, expiry):\n",
    "    \"\"\"\n",
    "    Compute the SABR volatility using TensorFlow.\n",
    "\n",
    "    Args:\n",
    "    - forward: Forward price\n",
    "    - alpha: Volatility of volatility\n",
    "    - beta: Beta parameter\n",
    "    - rho: Correlation between forward and volatility\n",
    "    - nu: Volatility of volatility\n",
    "    - strike: Strike price\n",
    "    - expiry: Time to expiry\n",
    "\n",
    "    Returns:\n",
    "    - Volatility as a TensorFlow tensor\n",
    "    \"\"\"\n",
    "\n",
    "    beta1 = 1.0 - beta\n",
    "    fKbeta = tf.pow(forward * strike, 0.5 * beta1)\n",
    "    logfK = tf.math.log(forward / strike)\n",
    "    z = (nu / alpha) * fKbeta * logfK\n",
    "\n",
    "    # Compute zxz based on z\n",
    "    sqz = tf.sqrt(1.0 - 2.0 * rho * z + z * z)  # Stabilized\n",
    "    xz = tf.math.log(tf.maximum((sqz + z - rho) / (1.0 - rho), 1e-6))  # Stabilized\n",
    "    zxz_safe = z / xz\n",
    "    zxz = tf.where(tf.abs(z) < Z_RANGE, 1.0 - 0.5 * z * rho, zxz_safe)\n",
    "\n",
    "    if (tf.math.abs(z) < 1e-6):\n",
    "        zxz = 1.0 - 0.5 * z * rho;\n",
    "    else:\n",
    "        sqz = tf.math.sqrt(1.0 - 2.0 * rho * z + z * z)\n",
    "        xz = tf.math.log((sqz + z - rho) / (1.0 - rho))\n",
    "        zxz = z / xz\n",
    "\n",
    "    # Additional factors\n",
    "    beta24 = beta1 * beta1 / 24.0\n",
    "    beta1920 = beta1**4 / 1920.0\n",
    "    logfK2 = logfK**2\n",
    "\n",
    "    factor11 = beta24 * logfK2\n",
    "    factor12 = beta1920 * logfK2**2\n",
    "    num1 = 1.0 + factor11 + factor12\n",
    "    factor1 = alpha / (fKbeta * num1)  # Stabilized\n",
    "\n",
    "    factor31 = beta24 * alpha**2 / (fKbeta**2)  # Stabilized\n",
    "    factor32 = 0.25 * rho * beta * nu * alpha / (fKbeta)  # Stabilized\n",
    "    factor33 = (2.0 - 3.0 * rho**2) / 24.0 * nu**2\n",
    "    factor3 = 1.0 + (factor31 + factor32 + factor33) * expiry\n",
    "\n",
    "    valatility = factor1 * zxz * factor3\n",
    "    return valatility\n",
    "\n",
    "# SABR Price Function\n",
    "def sabr_price(forward, alpha, beta, rho, nu, numeraire, strike, expiry, is_call=True):\n",
    "    \"\"\"\n",
    "    Compute the price of an option using SABR model and Black-Scholes formula.\n",
    "\n",
    "    Args:\n",
    "    - forward: Forward price\n",
    "    - alpha: Volatility of volatility\n",
    "    - beta: Beta parameter\n",
    "    - rho: Correlation\n",
    "    - nu: Volatility of volatility\n",
    "    - numeraire: Discount factor\n",
    "    - strike: Strike price\n",
    "    - expiry: Time to expiry\n",
    "    - is_call: Boolean, True for call option, False for put option\n",
    "\n",
    "    Returns:\n",
    "    - Option price as a TensorFlow tensor\n",
    "    \"\"\"\n",
    "    volatility = sabr_volatility(forward, alpha, beta, rho, nu, strike, expiry)\n",
    "    price = bs_price(forward, volatility, numeraire, strike, expiry, is_call)\n",
    "    return price"
   ]
  },
  {
   "cell_type": "code",
   "execution_count": 64,
   "metadata": {
    "colab": {
     "base_uri": "https://localhost:8080/"
    },
    "id": "EKl5OCuKG6Cu",
    "outputId": "cc2f1196-3883-49ec-9338-270482eda38c"
   },
   "outputs": [
    {
     "name": "stdout",
     "output_type": "stream",
     "text": [
      "dPrice/dForward: 0.5262220501899719\n",
      "dPrice/dAlpha: 4.032884120941162\n",
      "dPrice/dBeta: 3.713931083679199\n",
      "dPrice/dRho: 0.010371970012784004\n",
      "dPrice/dNu: 0.045410607010126114\n",
      "dPrice/dNumeraire: 0.8068351745605469\n",
      "dPrice/dStrike: -0.5221865773200989\n",
      "dPrice/dExpiry: 0.4123705327510834\n"
     ]
    }
   ],
   "source": [
    "# Define parameters as variables\n",
    "forward = tf.Variable(100.0, dtype=tf.float32)      # Forward price\n",
    "alpha = tf.Variable(0.2, dtype=tf.float32)          # Volatility of volatility\n",
    "beta = tf.Variable(0.5, dtype=tf.float32)           # Beta parameter\n",
    "rho = tf.Variable(-0.3, dtype=tf.float32)           # Correlation\n",
    "nu = tf.Variable(0.4, dtype=tf.float32)             # Volatility of volatility\n",
    "numeraire = tf.Variable(1.0, dtype=tf.float32)      # Numeraire (discount factor)\n",
    "strike = tf.Variable(100.0, dtype=tf.float32)       # Strike price\n",
    "expiry = tf.Variable(1.0, dtype=tf.float32)         # Time to expiry\n",
    "\n",
    "\n",
    "# Compute gradients\n",
    "with tf.GradientTape(persistent=True) as tape:\n",
    "    volatility = sabr_volatility(forward, alpha, beta, rho, nu, strike, expiry)\n",
    "    option_price = sabr_price(forward, alpha, beta, rho, nu, numeraire, strike, expiry)\n",
    "\n",
    "# Sensitivities\n",
    "sensitivities = {\n",
    "    \"dPrice/dForward\": tape.gradient(option_price, forward),\n",
    "    \"dPrice/dAlpha\": tape.gradient(option_price, alpha),\n",
    "    \"dPrice/dBeta\": tape.gradient(option_price, beta),\n",
    "    \"dPrice/dRho\": tape.gradient(option_price, rho),\n",
    "    \"dPrice/dNu\": tape.gradient(option_price, nu),\n",
    "    \"dPrice/dNumeraire\": tape.gradient(option_price, numeraire),\n",
    "    \"dPrice/dStrike\": tape.gradient(option_price, strike),\n",
    "    \"dPrice/dExpiry\": tape.gradient(option_price, expiry),\n",
    "}\n",
    "\n",
    "# Display results\n",
    "for variable, sensitivity in sensitivities.items():\n",
    "    print(f\"{variable}: {sensitivity.numpy()}\")"
   ]
  }
 ],
 "metadata": {
  "colab": {
   "provenance": []
  },
  "kernelspec": {
   "display_name": "myEnv01",
   "language": "python",
   "name": "python3"
  },
  "language_info": {
   "codemirror_mode": {
    "name": "ipython",
    "version": 3
   },
   "file_extension": ".py",
   "mimetype": "text/x-python",
   "name": "python",
   "nbconvert_exporter": "python",
   "pygments_lexer": "ipython3",
   "version": "3.11.5"
  }
 },
 "nbformat": 4,
 "nbformat_minor": 0
}
