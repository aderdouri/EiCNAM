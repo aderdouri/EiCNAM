{
  "cells": [
    {
      "cell_type": "markdown",
      "metadata": {
        "id": "view-in-github",
        "colab_type": "text"
      },
      "source": [
        "<a href=\"https://colab.research.google.com/github/aderdouri/EiCNAM/blob/master/Tutorials/Notebooks/basket_option.ipynb\" target=\"_parent\"><img src=\"https://colab.research.google.com/assets/colab-badge.svg\" alt=\"Open In Colab\"/></a>"
      ]
    },
    {
      "cell_type": "code",
      "source": [],
      "metadata": {
        "id": "86egbJ9oOJ17"
      },
      "execution_count": null,
      "outputs": []
    },
    {
      "cell_type": "code",
      "source": [
        "import torch\n",
        "from torch.distributions.normal import Normal\n",
        "\n",
        "def basket_option_price_closed_form(weights, sigmas, initial_prices, r_tensor, T_tensor, K, option_type=\"call\"):\n",
        "    \"\"\"\n",
        "    Compute the price of a basket option under the Bachelier model using the closed-form formula.\n",
        "\n",
        "    Args:\n",
        "        weights (torch.Tensor): Weights of the assets in the basket.\n",
        "        sigmas (torch.Tensor): Volatilities of the assets.\n",
        "        initial_prices (torch.Tensor): Initial prices of the assets.\n",
        "        r_tensor (torch.Tensor): Risk-free rate (requires_grad=True).\n",
        "        T_tensor (torch.Tensor): Time to maturity (requires_grad=True).\n",
        "        K (float): Strike price.\n",
        "        option_type (str): \"call\" or \"put\".\n",
        "\n",
        "    Returns:\n",
        "        torch.Tensor: The price of the basket option.\n",
        "    \"\"\"\n",
        "    # Calculate mean and standard deviation of the basket\n",
        "    mu_y = torch.sum(weights * (r_tensor * T_tensor + initial_prices))\n",
        "    sigma_y = torch.sqrt(torch.sum((weights ** 2) * (sigmas ** 2) * T_tensor))\n",
        "\n",
        "    # Calculate standardized variable x_bar\n",
        "    x_bar = (K - mu_y) / sigma_y\n",
        "\n",
        "    # Normal distribution functions\n",
        "    normal = Normal(0, 1)\n",
        "    Phi = normal.cdf(-x_bar)  # CDF of the standard normal\n",
        "    phi = torch.exp(-0.5 * x_bar ** 2) / torch.sqrt(torch.tensor(2.0 * torch.pi))  # PDF of the standard normal\n",
        "\n",
        "    # Calculate the price using the closed-form formula\n",
        "    if option_type == \"call\":\n",
        "        price = torch.exp(-r_tensor * T_tensor) * (sigma_y * phi - (K - mu_y) * Phi)\n",
        "    elif option_type == \"put\":\n",
        "        price = torch.exp(-r_tensor * T_tensor) * ((mu_y - K) * (1 - Phi) + sigma_y * phi)\n",
        "    else:\n",
        "        raise ValueError(\"Invalid option_type. Choose 'call' or 'put'.\")\n",
        "\n",
        "    return price\n",
        "\n",
        "def compute_sensitivities(weights, sigmas, initial_prices, r_tensor, T_tensor, K, option_type=\"call\"):\n",
        "    \"\"\"\n",
        "    Compute sensitivities (Greeks) for a basket option using adjoint differentiation.\n",
        "\n",
        "    Args:\n",
        "        weights (torch.Tensor): Weights of the assets in the basket.\n",
        "        sigmas (torch.Tensor): Volatilities of the assets.\n",
        "        initial_prices (torch.Tensor): Initial prices of the assets.\n",
        "        r_tensor (torch.Tensor): Risk-free rate (requires_grad=True).\n",
        "        T_tensor (torch.Tensor): Time to maturity (requires_grad=True).\n",
        "        K (float): Strike price.\n",
        "        option_type (str): \"call\" or \"put\".\n",
        "\n",
        "    Returns:\n",
        "        dict: Sensitivities (delta, vega, rho, theta).\n",
        "    \"\"\"\n",
        "    # Enable gradients for inputs\n",
        "    initial_prices = initial_prices.clone().detach().requires_grad_(True)\n",
        "    sigmas = sigmas.clone().detach().requires_grad_(True)\n",
        "\n",
        "    # Compute the option price\n",
        "    price = basket_option_price_closed_form(weights, sigmas, initial_prices, r_tensor, T_tensor, K, option_type)\n",
        "\n",
        "    # Backpropagate to compute gradients\n",
        "    price.backward()\n",
        "\n",
        "    # Extract sensitivities\n",
        "    delta = initial_prices.grad.tolist()  # Sensitivity to initial prices\n",
        "    vega = sigmas.grad.tolist()  # Sensitivity to volatilities\n",
        "    rho = r_tensor.grad.item()  # Sensitivity to risk-free rate\n",
        "    theta = T_tensor.grad.item()  # Sensitivity to time to maturity\n",
        "\n",
        "    return {\n",
        "        \"delta\": delta,\n",
        "        \"vega\": vega,\n",
        "        \"rho\": rho,\n",
        "        \"theta\": theta\n",
        "    }\n",
        "\n",
        "# Parameters\n",
        "sigmas = torch.tensor([0.25, 0.3, 0.1])\n",
        "initial_prices = torch.tensor([100.0, 82.0, 97.0])\n",
        "weights = torch.tensor([3.0, 1.0, 2.0])  # Equal weights\n",
        "r_tensor = torch.tensor(0.01, requires_grad=True)  # Risk-free rate with gradient tracking\n",
        "T_tensor = torch.tensor(2.0, requires_grad=True)  # Time to maturity with gradient tracking\n",
        "K = 88.0\n",
        "\n",
        "# Calculate call and put option prices using the closed-form formula\n",
        "call_price_closed_form = basket_option_price_closed_form(weights, sigmas, initial_prices, r_tensor, T_tensor, K, option_type=\"call\").item()\n",
        "put_price_closed_form = basket_option_price_closed_form(weights, sigmas, initial_prices, r_tensor, T_tensor, K, option_type=\"put\").item()\n",
        "\n",
        "# Compute sensitivities using adjoint differentiation\n",
        "sensitivities = compute_sensitivities(weights, sigmas, initial_prices, r_tensor, T_tensor, K, option_type=\"call\")\n",
        "\n",
        "print(f\"Call Option Price (Closed Form): {call_price_closed_form:.4f}\")\n",
        "print(f\"Put Option Price (Closed Form): {put_price_closed_form:.4f}\")\n",
        "print(\"Sensitivities:\")\n",
        "for key, value in sensitivities.items():\n",
        "    if isinstance(value, list):\n",
        "        print(f\"  {key}: {', '.join([f'{v:.4f}' for v in value])}\")\n",
        "    else:\n",
        "        print(f\"  {key}: {value:.4f}\")"
      ],
      "metadata": {
        "id": "7_uJQbAtIOyW",
        "outputId": "ba95d842-e1c4-489f-e113-6c2e786b08b1",
        "colab": {
          "base_uri": "https://localhost:8080/"
        }
      },
      "execution_count": 39,
      "outputs": [
        {
          "output_type": "stream",
          "name": "stdout",
          "text": [
            "Call Option Price (Closed Form): 478.4546\n",
            "Put Option Price (Closed Form): 0.0000\n",
            "Sensitivities:\n",
            "  delta: 2.9406, 0.9802, 1.9604\n",
            "  vega: 0.0000, 0.0000, 0.0000\n",
            "  rho: -945.1468\n",
            "  theta: -4.7257\n"
          ]
        }
      ]
    },
    {
      "cell_type": "code",
      "source": [],
      "metadata": {
        "id": "BjyrruUdI5cr"
      },
      "execution_count": null,
      "outputs": []
    }
  ],
  "metadata": {
    "colab": {
      "name": "Welcome To Colab",
      "toc_visible": true,
      "provenance": [],
      "include_colab_link": true
    },
    "kernelspec": {
      "display_name": "Python 3",
      "name": "python3"
    }
  },
  "nbformat": 4,
  "nbformat_minor": 0
}