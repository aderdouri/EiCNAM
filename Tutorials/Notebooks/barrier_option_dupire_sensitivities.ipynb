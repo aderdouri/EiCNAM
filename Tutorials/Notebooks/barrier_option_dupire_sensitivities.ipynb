{
  "nbformat": 4,
  "nbformat_minor": 0,
  "metadata": {
    "colab": {
      "private_outputs": true,
      "provenance": [],
      "authorship_tag": "ABX9TyPJQvIAmTJiSgSW2NpDPwfW",
      "include_colab_link": true
    },
    "kernelspec": {
      "name": "python3",
      "display_name": "Python 3"
    }
  },
  "cells": [
    {
      "cell_type": "markdown",
      "metadata": {
        "id": "view-in-github",
        "colab_type": "text"
      },
      "source": [
        "<a href=\"https://colab.research.google.com/github/aderdouri/EiCNAM/blob/master/Tutorials/Notebooks/barrier_option_dupire_sensitivities.ipynb\" target=\"_parent\"><img src=\"https://colab.research.google.com/assets/colab-badge.svg\" alt=\"Open In Colab\"/></a>"
      ]
    },
    {
      "cell_type": "markdown",
      "source": [
        "# Mathematical Description of the Financial Model\n",
        "\n",
        "## Barrier Options under the Black-Scholes Model\n",
        "\n",
        "A barrier option is a type of financial derivative whose payoff depends on whether the underlying asset's price reaches a specific barrier level during the option's life.\n"
      ],
      "metadata": {
        "id": "CF5alDWZ4_ca"
      }
    },
    {
      "cell_type": "markdown",
      "source": [
        "### Black-Scholes Formula for Barrier Options\n",
        "\n",
        "The value of a barrier option can be derived by adjusting the standard Black-Scholes model with additional terms to account for the barrier conditions. The formulas for *up-and-out call* and *down-and-out put* options are given by:\n",
        "\n",
        "$\n",
        "C_{\\text{up-out}} =\n",
        "\\begin{cases}\n",
        "    0, & S \\geq H \\\\\\\\\n",
        "    S \\Phi(d_1) - K e^{-rT} \\Phi(d_2) - \\left[ S \\left(\\frac{H}{S}\\right)^{2\\lambda} \\Phi(x_1) - K e^{-rT} \\left(\\frac{H}{S}\\right)^{2\\lambda - 2} \\Phi(x_2) \\right], & S < H\n",
        "\\end{cases},\n",
        "$\n",
        "\n",
        "$\n",
        "P_{\\text{down-out}} =\n",
        "\\begin{cases}\n",
        "    0, & S \\leq H \\\\\\\\\n",
        "    K e^{-rT} \\Phi(-d_2) - S \\Phi(-d_1) - \\left[ K e^{-rT} \\left(\\frac{H}{S}\\right)^{2\\lambda - 2} \\Phi(-x_2) - S \\left(\\frac{H}{S}\\right)^{2\\lambda} \\Phi(-x_1) \\right], & S > H\n",
        "\\end{cases},\n",
        "$\n"
      ],
      "metadata": {
        "id": "LcCADe_i5FLR"
      }
    },
    {
      "cell_type": "markdown",
      "source": [
        "### Parameter Definitions\n",
        "\n",
        "$\n",
        "d_1 = \\frac{\\ln(S / K) + (r + 0.5 \\sigma^2)T}{\\sigma \\sqrt{T}}, \\quad\n",
        "d_2 = d_1 - \\sigma \\sqrt{T},\n",
        "$\n",
        "\n",
        "$\n",
        "x_1 = \\frac{\\ln(S / H)}{\\sigma \\sqrt{T}} + \\lambda \\sigma \\sqrt{T}, \\quad\n",
        "x_2 = x_1 - \\sigma \\sqrt{T},\n",
        "$\n",
        "\n",
        "$\n",
        "\\lambda = \\frac{r + 0.5 \\sigma^2}{\\sigma^2}.\n",
        "$\n",
        "\n",
        "Here, $ S $ is the spot price, $ K $ is the strike price, $ H $ is the barrier level, $ r $ is the risk-free interest rate, $ T $ is the time to maturity, and $ \\sigma $ is the local volatility. $ \\Phi(\\cdot) $ is the cumulative distribution function of the standard normal distribution.\n"
      ],
      "metadata": {
        "id": "jo6U0K_S5RQT"
      }
    },
    {
      "cell_type": "markdown",
      "source": [
        "## Sensitivity Analysis using Automatic Differentiation\n",
        "\n",
        "The sensitivity of the barrier option price to the local volatility surface $ \\sigma_{\\text{loc}}(K, T) $ is computed using automatic differentiation. The sensitivity is defined as:\n",
        "\n",
        "$\n",
        "\\frac{\\partial V}{\\partial \\sigma_{\\text{loc}}(K, T)},\n",
        "$\n",
        "\n",
        "where $ V $ is the price of the barrier option. By leveraging automatic differentiation, this derivative is computed directly in the computational graph without requiring finite difference approximations.\n"
      ],
      "metadata": {
        "id": "1NDBZvfk5nJV"
      }
    },
    {
      "cell_type": "code",
      "source": [
        "import torch\n",
        "from torch.distributions.normal import Normal\n",
        "\n",
        "# Barrier option pricing with the Black-Scholes formula\n",
        "def barrier_option_price(S, K, T, r, sigma, H, option_type=\"call\", barrier_type=\"up-and-out\"):\n",
        "    # S: Spot price (scalar or tensor)\n",
        "    # K: Strike price (tensor)\n",
        "    # T: Time to maturity (tensor)\n",
        "    # r: Risk-free rate (scalar)\n",
        "    # sigma: Local volatility (tensor, same shape as K and T)\n",
        "    # H: Barrier level (scalar)\n",
        "    # option_type: \"call\" or \"put\"\n",
        "    # barrier_type: \"up-and-out\" or \"down-and-out\"\n",
        "\n",
        "    # Avoid division by zero for very small T\n",
        "    T = torch.clamp(T, min=1e-6)\n",
        "\n",
        "    # Standard normal distribution\n",
        "    normal = Normal(0, 1)\n",
        "\n",
        "    # Parameters for Black-Scholes formula\n",
        "    d1 = (torch.log(S / K) + (r + 0.5 * sigma**2) * T) / (sigma * torch.sqrt(T))\n",
        "    d2 = d1 - sigma * torch.sqrt(T)\n",
        "\n",
        "    # Parameters for the barrier option adjustment\n",
        "    lambda_ = (r + 0.5 * sigma**2) / (sigma**2)\n",
        "    x1 = torch.log(S / H) / (sigma * torch.sqrt(T)) + lambda_ * sigma * torch.sqrt(T)\n",
        "    x2 = x1 - sigma * torch.sqrt(T)\n",
        "\n",
        "    # Barrier option pricing logic\n",
        "    if option_type == \"call\" and barrier_type == \"up-and-out\":\n",
        "        # Up-and-out call\n",
        "        return torch.where(S >= H, torch.zeros_like(K),  # Knocked out if spot >= barrier\n",
        "                           S * normal.cdf(d1) - K * torch.exp(-r * T) * normal.cdf(d2) - \\\n",
        "                           (S * (H / S)**(2 * lambda_) * normal.cdf(x1) - K * torch.exp(-r * T) * (H / S)**(2 * lambda_ - 2) * normal.cdf(x2)))\n",
        "    elif option_type == \"put\" and barrier_type == \"down-and-out\":\n",
        "        # Down-and-out put\n",
        "        return torch.where(S <= H, torch.zeros_like(K),  # Knocked out if spot <= barrier\n",
        "                           K * torch.exp(-r * T) * normal.cdf(-d2) - S * normal.cdf(-d1) - \\\n",
        "                           (K * torch.exp(-r * T) * (H / S)**(2 * lambda_ - 2) * normal.cdf(-x2) - S * (H / S)**(2 * lambda_) * normal.cdf(-x1)))\n",
        "    else:\n",
        "        raise ValueError(\"Unsupported option or barrier type\")\n",
        "\n",
        "# Function to calculate sensitivities for barrier options\n",
        "def calculate_barrier_sensitivities(S, K, T, r, sigma_surface, H, option_type=\"call\", barrier_type=\"up-and-out\", epsilon=1e-4):\n",
        "    # S: Spot price (scalar)\n",
        "    # K: Strike price (tensor)\n",
        "    # T: Time to maturity (tensor)\n",
        "    # r: Risk-free rate (scalar)\n",
        "    # sigma_surface: Local volatility surface (tensor of shape [num_strikes, num_times])\n",
        "    # H: Barrier level (scalar)\n",
        "\n",
        "    # Expand S, K, and T to match the shape of sigma_surface\n",
        "    S_exp = S * torch.ones_like(sigma_surface)\n",
        "    K_exp = K.unsqueeze(1).expand_as(sigma_surface)\n",
        "    T_exp = T.unsqueeze(0).expand_as(sigma_surface)\n",
        "\n",
        "    # Calculate the option price for the base volatility surface\n",
        "    base_prices = barrier_option_price(S_exp, K_exp, T_exp, r, sigma_surface, H, option_type, barrier_type)\n",
        "\n",
        "    # Sensitivities with respect to volatility surface\n",
        "    sensitivity_sigma = torch.zeros_like(sigma_surface)\n",
        "\n",
        "    # Loop over the volatility surface and calculate the derivatives (sensitivities)\n",
        "    for i in range(sigma_surface.shape[0]):  # Loop over strikes\n",
        "        for j in range(sigma_surface.shape[1]):  # Loop over times\n",
        "            # Perturb the volatility surface slightly\n",
        "            sigma_perturbed = sigma_surface.clone()\n",
        "            sigma_perturbed[i, j] += epsilon\n",
        "\n",
        "            # Calculate option price for the perturbed volatility surface\n",
        "            perturbed_prices = barrier_option_price(S_exp, K_exp, T_exp, r, sigma_perturbed, H, option_type, barrier_type)\n",
        "\n",
        "            # Compute sensitivity by finite difference\n",
        "            sensitivity_sigma[i, j] = (perturbed_prices[i, j] - base_prices[i, j]) / epsilon\n",
        "\n",
        "    return sensitivity_sigma"
      ],
      "metadata": {
        "id": "RvI-XkYW29oE"
      },
      "execution_count": null,
      "outputs": []
    },
    {
      "cell_type": "code",
      "source": [
        "# Example parameters\n",
        "S = torch.tensor(100.0)  # Spot price\n",
        "K = torch.linspace(90, 110, 10)  # Strike prices (from 90 to 110)\n",
        "T = torch.linspace(0.1, 2.0, 5)  # Time to maturities (from 0.1 to 2 years)\n",
        "r = torch.tensor(0.05)  # Risk-free rate (5%)\n",
        "H = torch.tensor(120.0)  # Barrier level\n",
        "\n",
        "# Example volatility surface (local volatility from Dupire model)\n",
        "sigma_surface = torch.ones((10, 5)) * 0.2  # 10 strikes, 5 maturities\n",
        "\n",
        "# Calculate sensitivities for barrier options\n",
        "sensitivity_sigma = calculate_barrier_sensitivities(S, K, T, r, sigma_surface, H)\n",
        "\n",
        "# Print the sensitivities\n",
        "print(\"Sensitivity with respect to the volatility surface for barrier options:\")\n",
        "print(sensitivity_sigma)\n"
      ],
      "metadata": {
        "id": "-8FmFN1u5B0Y"
      },
      "execution_count": null,
      "outputs": []
    },
    {
      "cell_type": "code",
      "source": [
        "import torch\n",
        "from torch.distributions.normal import Normal\n",
        "\n",
        "# Barrier option pricing with the Black-Scholes formula\n",
        "def barrier_option_price(S, K, T, r, sigma, H, option_type=\"call\", barrier_type=\"up-and-out\"):\n",
        "    # S: Spot price (scalar or tensor)\n",
        "    # K: Strike price (tensor)\n",
        "    # T: Time to maturity (tensor)\n",
        "    # r: Risk-free rate (scalar)\n",
        "    # sigma: Local volatility (tensor, same shape as K and T)\n",
        "    # H: Barrier level (scalar)\n",
        "    # option_type: \"call\" or \"put\"\n",
        "    # barrier_type: \"up-and-out\" or \"down-and-out\"\n",
        "\n",
        "    # Avoid division by zero for very small T\n",
        "    T = torch.clamp(T, min=1e-6)\n",
        "\n",
        "    # Standard normal distribution\n",
        "    normal = Normal(0, 1)\n",
        "\n",
        "    # Parameters for Black-Scholes formula\n",
        "    d1 = (torch.log(S / K) + (r + 0.5 * sigma**2) * T) / (sigma * torch.sqrt(T))\n",
        "    d2 = d1 - sigma * torch.sqrt(T)\n",
        "\n",
        "    # Parameters for the barrier option adjustment\n",
        "    lambda_ = (r + 0.5 * sigma**2) / (sigma**2)\n",
        "    x1 = torch.log(S / H) / (sigma * torch.sqrt(T)) + lambda_ * sigma * torch.sqrt(T)\n",
        "    x2 = x1 - sigma * torch.sqrt(T)\n",
        "\n",
        "    # Barrier option pricing logic\n",
        "    if option_type == \"call\" and barrier_type == \"up-and-out\":\n",
        "        return torch.where(S >= H, torch.zeros_like(K),  # Knocked out if spot >= barrier\n",
        "                           S * normal.cdf(d1) - K * torch.exp(-r * T) * normal.cdf(d2) - \\\n",
        "                           (S * (H / S)**(2 * lambda_) * normal.cdf(x1) - K * torch.exp(-r * T) * (H / S)**(2 * lambda_ - 2) * normal.cdf(x2)))\n",
        "    elif option_type == \"put\" and barrier_type == \"down-and-out\":\n",
        "        return torch.where(S <= H, torch.zeros_like(K),  # Knocked out if spot <= barrier\n",
        "                           K * torch.exp(-r * T) * normal.cdf(-d2) - S * normal.cdf(-d1) - \\\n",
        "                           (K * torch.exp(-r * T) * (H / S)**(2 * lambda_ - 2) * normal.cdf(-x2) - S * (H / S)**(2 * lambda_) * normal.cdf(-x1)))\n",
        "    else:\n",
        "        raise ValueError(\"Unsupported option or barrier type\")\n",
        "\n",
        "# Function to calculate sensitivities for barrier options using automatic differentiation\n",
        "def calculate_barrier_sensitivities_autodiff(S, K, T, r, sigma_surface, H, option_type=\"call\", barrier_type=\"up-and-out\"):\n",
        "    # S: Spot price (scalar)\n",
        "    # K: Strike price (tensor)\n",
        "    # T: Time to maturity (tensor)\n",
        "    # r: Risk-free rate (scalar)\n",
        "    # sigma_surface: Local volatility surface (tensor of shape [num_strikes, num_times])\n",
        "    # H: Barrier level (scalar)\n",
        "\n",
        "    # Expand S, K, and T to match the shape of sigma_surface\n",
        "    S_exp = S * torch.ones_like(sigma_surface)\n",
        "    K_exp = K.unsqueeze(1).expand_as(sigma_surface)\n",
        "    T_exp = T.unsqueeze(0).expand_as(sigma_surface)\n",
        "\n",
        "    # Enable gradient tracking for the sigma_surface\n",
        "    sigma_surface = sigma_surface.clone().detach().requires_grad_(True)\n",
        "\n",
        "    # Calculate the option price for the given volatility surface\n",
        "    prices = barrier_option_price(S_exp, K_exp, T_exp, r, sigma_surface, H, option_type, barrier_type)\n",
        "\n",
        "    # Perform automatic differentiation to compute sensitivities\n",
        "    sensitivities = torch.autograd.grad(outputs=prices.sum(), inputs=sigma_surface, create_graph=True)[0]\n",
        "\n",
        "    return sensitivities"
      ],
      "metadata": {
        "id": "4CxC7SoN2-eW"
      },
      "execution_count": null,
      "outputs": []
    },
    {
      "cell_type": "code",
      "source": [
        "# Example parameters\n",
        "S = torch.tensor(100.0)  # Spot price\n",
        "K = torch.linspace(90, 110, 10)  # Strike prices (from 90 to 110)\n",
        "T = torch.linspace(0.1, 2.0, 5)  # Time to maturities (from 0.1 to 2 years)\n",
        "r = torch.tensor(0.05)  # Risk-free rate (5%)\n",
        "H = torch.tensor(120.0)  # Barrier level\n",
        "\n",
        "# Example volatility surface (local volatility from Dupire model)\n",
        "sigma_surface = torch.ones((10, 5)) * 0.2  # 10 strikes, 5 maturities\n",
        "\n",
        "# Calculate sensitivities for barrier options using automatic differentiation\n",
        "sensitivity_sigma = calculate_barrier_sensitivities_autodiff(S, K, T, r, sigma_surface, H)\n",
        "\n",
        "# Print the sensitivities\n",
        "print(\"Sensitivity with respect to the volatility surface for barrier options:\")\n",
        "print(sensitivity_sigma)"
      ],
      "metadata": {
        "id": "ngFWzRUO5GGZ"
      },
      "execution_count": null,
      "outputs": []
    },
    {
      "cell_type": "code",
      "source": [],
      "metadata": {
        "id": "JGwDmPrH4HU3"
      },
      "execution_count": null,
      "outputs": []
    }
  ]
}