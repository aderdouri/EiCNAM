{
  "nbformat": 4,
  "nbformat_minor": 0,
  "metadata": {
    "colab": {
      "private_outputs": true,
      "provenance": [],
      "authorship_tag": "ABX9TyMZ/x+1lYBCFVwhZ4JXrgeH",
      "include_colab_link": true
    },
    "kernelspec": {
      "name": "python3",
      "display_name": "Python 3"
    }
  },
  "cells": [
    {
      "cell_type": "markdown",
      "metadata": {
        "id": "view-in-github",
        "colab_type": "text"
      },
      "source": [
        "<a href=\"https://colab.research.google.com/github/aderdouri/EiCNAM/blob/master/Tutorials/Notebooks/barrier_option_dupire_sensitivities.ipynb\" target=\"_parent\"><img src=\"https://colab.research.google.com/assets/colab-badge.svg\" alt=\"Open In Colab\"/></a>"
      ]
    },
    {
      "cell_type": "markdown",
      "source": [
        "# Mathematical Description of the Financial Model\n",
        "\n",
        "## Barrier Options under the Black-Scholes Model\n",
        "\n",
        "A barrier option is a type of financial derivative whose payoff depends on whether the underlying asset's price reaches a specific barrier level during the option's life.\n"
      ],
      "metadata": {
        "id": "CF5alDWZ4_ca"
      }
    },
    {
      "cell_type": "markdown",
      "source": [
        "### Black-Scholes Formula for Barrier Options\n",
        "\n",
        "The value of a barrier option can be derived by adjusting the standard Black-Scholes model with additional terms to account for the barrier conditions. The formulas for *up-and-out call* and *down-and-out put* options are given by:\n",
        "\n",
        "$\n",
        "C_{\\text{up-out}} =\n",
        "\\begin{cases}\n",
        "    0, & S \\geq H \\\\\\\\\n",
        "    S \\Phi(d_1) - K e^{-rT} \\Phi(d_2) - \\left[ S \\left(\\frac{H}{S}\\right)^{2\\lambda} \\Phi(x_1) - K e^{-rT} \\left(\\frac{H}{S}\\right)^{2\\lambda - 2} \\Phi(x_2) \\right], & S < H\n",
        "\\end{cases},\n",
        "$\n",
        "\n",
        "$\n",
        "P_{\\text{down-out}} =\n",
        "\\begin{cases}\n",
        "    0, & S \\leq H \\\\\\\\\n",
        "    K e^{-rT} \\Phi(-d_2) - S \\Phi(-d_1) - \\left[ K e^{-rT} \\left(\\frac{H}{S}\\right)^{2\\lambda - 2} \\Phi(-x_2) - S \\left(\\frac{H}{S}\\right)^{2\\lambda} \\Phi(-x_1) \\right], & S > H\n",
        "\\end{cases},\n",
        "$\n"
      ],
      "metadata": {
        "id": "LcCADe_i5FLR"
      }
    },
    {
      "cell_type": "markdown",
      "source": [
        "### Parameter Definitions\n",
        "\n",
        "$\n",
        "d_1 = \\frac{\\ln(S / K) + (r + 0.5 \\sigma^2)T}{\\sigma \\sqrt{T}}, \\quad\n",
        "d_2 = d_1 - \\sigma \\sqrt{T},\n",
        "$\n",
        "\n",
        "$\n",
        "x_1 = \\frac{\\ln(S / H)}{\\sigma \\sqrt{T}} + \\lambda \\sigma \\sqrt{T}, \\quad\n",
        "x_2 = x_1 - \\sigma \\sqrt{T},\n",
        "$\n",
        "\n",
        "$\n",
        "\\lambda = \\frac{r + 0.5 \\sigma^2}{\\sigma^2}.\n",
        "$\n",
        "\n",
        "Here, $ S $ is the spot price, $ K $ is the strike price, $ H $ is the barrier level, $ r $ is the risk-free interest rate, $ T $ is the time to maturity, and $ \\sigma $ is the local volatility. $ \\Phi(\\cdot) $ is the cumulative distribution function of the standard normal distribution.\n"
      ],
      "metadata": {
        "id": "jo6U0K_S5RQT"
      }
    },
    {
      "cell_type": "markdown",
      "source": [
        "## Sensitivity Analysis using Automatic Differentiation\n",
        "\n",
        "The sensitivity of the barrier option price to the local volatility surface $ \\sigma_{\\text{loc}}(K, T) $ is computed using automatic differentiation. The sensitivity is defined as:\n",
        "\n",
        "$\n",
        "\\frac{\\partial V}{\\partial \\sigma_{\\text{loc}}(K, T)},\n",
        "$\n",
        "\n",
        "where $ V $ is the price of the barrier option. By leveraging automatic differentiation, this derivative is computed directly in the computational graph without requiring finite difference approximations.\n"
      ],
      "metadata": {
        "id": "1NDBZvfk5nJV"
      }
    },
    {
      "cell_type": "code",
      "source": [
        "import torch\n",
        "import numpy as np\n",
        "from torch.distributions.normal import Normal"
      ],
      "metadata": {
        "id": "A8fesGb2FFmr"
      },
      "execution_count": null,
      "outputs": []
    },
    {
      "cell_type": "code",
      "source": [
        "torch.manual_seed(42)\n",
        "np.random.seed(42)"
      ],
      "metadata": {
        "id": "OTGQX4kRICe3"
      },
      "execution_count": null,
      "outputs": []
    },
    {
      "cell_type": "code",
      "source": [
        "torch.set_printoptions(sci_mode=False)"
      ],
      "metadata": {
        "id": "OITq9i6fIEzV"
      },
      "execution_count": null,
      "outputs": []
    },
    {
      "cell_type": "code",
      "source": [
        "# Barrier option pricing with the Black-Scholes formula\n",
        "def barrier_option_price(S, K, T, r, sigma, H, option_type=\"call\", barrier_type=\"up-and-out\"):\n",
        "    # S: Spot price (scalar or tensor)\n",
        "    # K: Strike price (tensor)\n",
        "    # T: Time to maturity (tensor)\n",
        "    # r: Risk-free rate (scalar)\n",
        "    # sigma: Local volatility (tensor, same shape as K and T)\n",
        "    # H: Barrier level (scalar)\n",
        "    # option_type: \"call\" or \"put\"\n",
        "    # barrier_type: \"up-and-out\" or \"down-and-out\"\n",
        "\n",
        "    # Avoid division by zero for very small T\n",
        "    T = torch.clamp(T, min=1e-6)\n",
        "\n",
        "    # Standard normal distribution\n",
        "    normal = Normal(0, 1)\n",
        "\n",
        "    # Parameters for Black-Scholes formula\n",
        "    d1 = (torch.log(S / K) + (r + 0.5 * sigma**2) * T) / (sigma * torch.sqrt(T))\n",
        "    d2 = d1 - sigma * torch.sqrt(T)\n",
        "\n",
        "    # Parameters for the barrier option adjustment\n",
        "    lambda_ = (r + 0.5 * sigma**2) / (sigma**2)\n",
        "    x1 = torch.log(S / H) / (sigma * torch.sqrt(T)) + lambda_ * sigma * torch.sqrt(T)\n",
        "    x2 = x1 - sigma * torch.sqrt(T)\n",
        "\n",
        "    # Barrier option pricing logic\n",
        "    if option_type == \"call\" and barrier_type == \"up-and-out\":\n",
        "        # Up-and-out call\n",
        "        return torch.where(S >= H, torch.zeros_like(K),  # Knocked out if spot >= barrier\n",
        "                           S * normal.cdf(d1) - K * torch.exp(-r * T) * normal.cdf(d2) - \\\n",
        "                           (S * (H / S)**(2 * lambda_) * normal.cdf(x1) - K * torch.exp(-r * T) * (H / S)**(2 * lambda_ - 2) * normal.cdf(x2)))\n",
        "    elif option_type == \"put\" and barrier_type == \"down-and-out\":\n",
        "        # Down-and-out put\n",
        "        return torch.where(S <= H, torch.zeros_like(K),  # Knocked out if spot <= barrier\n",
        "                           K * torch.exp(-r * T) * normal.cdf(-d2) - S * normal.cdf(-d1) - \\\n",
        "                           (K * torch.exp(-r * T) * (H / S)**(2 * lambda_ - 2) * normal.cdf(-x2) - S * (H / S)**(2 * lambda_) * normal.cdf(-x1)))\n",
        "    else:\n",
        "        raise ValueError(\"Unsupported option or barrier type\")\n",
        "\n",
        "# Function to calculate sensitivities for barrier options\n",
        "def calculate_barrier_sensitivities(S, K, T, r, sigma_surface, H, option_type=\"call\", barrier_type=\"up-and-out\", epsilon=1e-4):\n",
        "    # S: Spot price (scalar)\n",
        "    # K: Strike price (tensor)\n",
        "    # T: Time to maturity (tensor)\n",
        "    # r: Risk-free rate (scalar)\n",
        "    # sigma_surface: Local volatility surface (tensor of shape [num_strikes, num_times])\n",
        "    # H: Barrier level (scalar)\n",
        "\n",
        "    # Expand S, K, and T to match the shape of sigma_surface\n",
        "    S_exp = S * torch.ones_like(sigma_surface)\n",
        "    K_exp = K.unsqueeze(1).expand_as(sigma_surface)\n",
        "    T_exp = T.unsqueeze(0).expand_as(sigma_surface)\n",
        "\n",
        "    # Calculate the option price for the base volatility surface\n",
        "    base_prices = barrier_option_price(S_exp, K_exp, T_exp, r, sigma_surface, H, option_type, barrier_type)\n",
        "    print('base_prices', base_prices)\n",
        "\n",
        "    # Sensitivities with respect to volatility surface\n",
        "    sensitivity_sigma = torch.zeros_like(sigma_surface)\n",
        "\n",
        "    # Loop over the volatility surface and calculate the derivatives (sensitivities)\n",
        "    for i in range(sigma_surface.shape[0]):  # Loop over strikes\n",
        "        for j in range(sigma_surface.shape[1]):  # Loop over times\n",
        "            # Perturb the volatility surface slightly\n",
        "            sigma_perturbed = sigma_surface.clone()\n",
        "            sigma_perturbed[i, j] += epsilon\n",
        "\n",
        "            # Calculate option price for the perturbed volatility surface\n",
        "            perturbed_prices = barrier_option_price(S_exp, K_exp, T_exp, r, sigma_perturbed, H, option_type, barrier_type)\n",
        "\n",
        "            # Compute sensitivity by finite difference\n",
        "            sensitivity_sigma[i, j] = (perturbed_prices[i, j] - base_prices[i, j]) / epsilon\n",
        "\n",
        "    return sensitivity_sigma"
      ],
      "metadata": {
        "id": "RvI-XkYW29oE"
      },
      "execution_count": null,
      "outputs": []
    },
    {
      "cell_type": "code",
      "source": [
        "# Example parameters\n",
        "S = torch.tensor(100.0)  # Spot price\n",
        "#K = torch.linspace(90, 110, 10)  # Strike prices (from 90 to 110)\n",
        "K = torch.linspace(90, 180, steps=10)\n",
        "T = torch.linspace(0.1, 2.0, 5)  # Time to maturities (from 0.1 to 2 years)\n",
        "r = torch.tensor(0.05)  # Risk-free rate (5%)\n",
        "H = torch.tensor(150.0)  # Barrier level\n",
        "\n",
        "# Example volatility surface (local volatility from Dupire model)\n",
        "sigma_surface = torch.ones((10, 5)) * 0.2  # 10 strikes, 5 maturities\n",
        "\n",
        "# Calculate sensitivities for barrier options\n",
        "sensitivity_sigma = calculate_barrier_sensitivities(S, K, T, r, sigma_surface, H)\n",
        "\n",
        "# Print the sensitivities\n",
        "print(\"Sensitivity with respect to the volatility surface for barrier options:\")\n",
        "print(sensitivity_sigma)\n"
      ],
      "metadata": {
        "id": "-8FmFN1u5B0Y"
      },
      "execution_count": null,
      "outputs": []
    },
    {
      "cell_type": "code",
      "source": [
        "# Barrier option pricing with the Black-Scholes formula\n",
        "def barrier_option_price(S, K, T, r, sigma, H, option_type=\"call\", barrier_type=\"up-and-out\"):\n",
        "    # S: Spot price (scalar or tensor)\n",
        "    # K: Strike price (tensor)\n",
        "    # T: Time to maturity (tensor)\n",
        "    # r: Risk-free rate (scalar)\n",
        "    # sigma: Local volatility (tensor, same shape as K and T)\n",
        "    # H: Barrier level (scalar)\n",
        "    # option_type: \"call\" or \"put\"\n",
        "    # barrier_type: \"up-and-out\" or \"down-and-out\"\n",
        "\n",
        "    # Avoid division by zero for very small T\n",
        "    T = torch.clamp(T, min=1e-6)\n",
        "\n",
        "    # Standard normal distribution\n",
        "    normal = Normal(0, 1)\n",
        "\n",
        "    # Parameters for Black-Scholes formula\n",
        "    d1 = (torch.log(S / K) + (r + 0.5 * sigma**2) * T) / (sigma * torch.sqrt(T))\n",
        "    d2 = d1 - sigma * torch.sqrt(T)\n",
        "\n",
        "    # Parameters for the barrier option adjustment\n",
        "    lambda_ = (r + 0.5 * sigma**2) / (sigma**2)\n",
        "    x1 = torch.log(S / H) / (sigma * torch.sqrt(T)) + lambda_ * sigma * torch.sqrt(T)\n",
        "    x2 = x1 - sigma * torch.sqrt(T)\n",
        "\n",
        "    # Barrier option pricing logic\n",
        "    if option_type == \"call\" and barrier_type == \"up-and-out\":\n",
        "        return torch.where(S >= H, torch.zeros_like(K),  # Knocked out if spot >= barrier\n",
        "                           S * normal.cdf(d1) - K * torch.exp(-r * T) * normal.cdf(d2) - \\\n",
        "                           (S * (H / S)**(2 * lambda_) * normal.cdf(x1) - K * torch.exp(-r * T) * (H / S)**(2 * lambda_ - 2) * normal.cdf(x2)))\n",
        "    elif option_type == \"put\" and barrier_type == \"down-and-out\":\n",
        "        return torch.where(S <= H, torch.zeros_like(K),  # Knocked out if spot <= barrier\n",
        "                           K * torch.exp(-r * T) * normal.cdf(-d2) - S * normal.cdf(-d1) - \\\n",
        "                           (K * torch.exp(-r * T) * (H / S)**(2 * lambda_ - 2) * normal.cdf(-x2) - S * (H / S)**(2 * lambda_) * normal.cdf(-x1)))\n",
        "    else:\n",
        "        raise ValueError(\"Unsupported option or barrier type\")\n",
        "\n",
        "# Function to calculate sensitivities for barrier options using automatic differentiation\n",
        "def calculate_barrier_sensitivities_autodiff(S, K, T, r, sigma_surface, H, option_type=\"call\", barrier_type=\"up-and-out\"):\n",
        "    # S: Spot price (scalar)\n",
        "    # K: Strike price (tensor)\n",
        "    # T: Time to maturity (tensor)\n",
        "    # r: Risk-free rate (scalar)\n",
        "    # sigma_surface: Local volatility surface (tensor of shape [num_strikes, num_times])\n",
        "    # H: Barrier level (scalar)\n",
        "\n",
        "    # Expand S, K, and T to match the shape of sigma_surface\n",
        "    S_exp = S * torch.ones_like(sigma_surface)\n",
        "    K_exp = K.unsqueeze(1).expand_as(sigma_surface)\n",
        "    T_exp = T.unsqueeze(0).expand_as(sigma_surface)\n",
        "\n",
        "    # Enable gradient tracking for the sigma_surface\n",
        "    sigma_surface = sigma_surface.clone().detach().requires_grad_(True)\n",
        "\n",
        "    # Calculate the option price for the given volatility surface\n",
        "    prices = barrier_option_price(S_exp, K_exp, T_exp, r, sigma_surface, H, option_type, barrier_type)\n",
        "    print('prices', prices)\n",
        "\n",
        "    # Perform automatic differentiation to compute sensitivities\n",
        "    sensitivities = torch.autograd.grad(outputs=prices.sum(), inputs=sigma_surface, create_graph=True)[0]\n",
        "\n",
        "    return sensitivities"
      ],
      "metadata": {
        "id": "4CxC7SoN2-eW"
      },
      "execution_count": null,
      "outputs": []
    },
    {
      "cell_type": "code",
      "source": [
        "# Example parameters\n",
        "S = torch.tensor(100.0)  # Spot price\n",
        "#K = torch.linspace(90, 110, 10)  # Strike prices (from 90 to 110)\n",
        "K = torch.linspace(90, 180, steps=10)\n",
        "T = torch.linspace(0.1, 2.0, 5)  # Time to maturities (from 0.1 to 2 years)\n",
        "r = torch.tensor(0.05)  # Risk-free rate (5%)\n",
        "H = torch.tensor(150.0)  # Barrier level\n",
        "\n",
        "# Example volatility surface (local volatility from Dupire model)\n",
        "sigma_surface = torch.ones((10, 5)) * 0.2  # 10 strikes, 5 maturities\n",
        "\n",
        "# Calculate sensitivities for barrier options using automatic differentiation\n",
        "sensitivity_sigma = calculate_barrier_sensitivities_autodiff(S, K, T, r, sigma_surface, H)\n",
        "\n",
        "# Print the sensitivities\n",
        "print(\"Sensitivity with respect to the volatility surface for barrier options:\")\n",
        "print(sensitivity_sigma)"
      ],
      "metadata": {
        "id": "ngFWzRUO5GGZ"
      },
      "execution_count": null,
      "outputs": []
    },
    {
      "cell_type": "markdown",
      "source": [
        "## MONTE CARLO SIMULATION"
      ],
      "metadata": {
        "id": "iIr-JlIhINoU"
      }
    },
    {
      "cell_type": "code",
      "source": [
        "# Monte Carlo simulation for barrier option pricing\n",
        "def simulate_paths_mc(S0, r, sigma_surface, T, H, N_t, N_paths, strikes, times):\n",
        "    dt = T / N_t\n",
        "    #dt_tensor = torch.tensor(dt, dtype=torch.float32)  # Convert to PyTorch tensor\n",
        "    time_grid = torch.linspace(0, T, steps=N_t + 1)\n",
        "    paths = torch.zeros((N_paths, N_t + 1), dtype=torch.float32, requires_grad=False)\n",
        "    paths[:, 0] = S0\n",
        "\n",
        "    for t_idx in range(1, N_t + 1):\n",
        "        t = time_grid[t_idx]\n",
        "        Z = torch.randn(N_paths)  # Standard normal random variables\n",
        "        S_prev = paths[:, t_idx - 1].clone()  # Clone to avoid in-place modifications\n",
        "\n",
        "        # Interpolate local volatility for current spot and time\n",
        "        sigma_t = interpolate_volatility(S_prev, t, strikes, times, sigma_surface)\n",
        "\n",
        "        # Simulate next step of the path\n",
        "        dS = r * S_prev * dt + sigma_t * S_prev * torch.sqrt(dt) * Z\n",
        "        paths[:, t_idx] = S_prev + dS\n",
        "\n",
        "    # Check for barrier breach\n",
        "    breached = (paths > H).any(dim=1)  # True if the path crosses the barrier\n",
        "    return paths, breached\n",
        "\n",
        "\n",
        "def interpolate_volatility(S, t, strikes, times, sigma_surface):\n",
        "    \"\"\"\n",
        "    Interpolate local volatility from the surface using bilinear interpolation.\n",
        "\n",
        "    Args:\n",
        "    - S: Spot prices (1D tensor).\n",
        "    - t: Current time (scalar).\n",
        "    - strikes: Tensor of strike levels.\n",
        "    - times: Tensor of time levels.\n",
        "    - sigma_surface: Local volatility surface (tensor, shape [num_strikes, num_times]).\n",
        "\n",
        "    Returns:\n",
        "    - Interpolated volatility values (1D tensor).\n",
        "    \"\"\"\n",
        "    # Ensure inputs are tensors\n",
        "    S = S.clone().detach()  # Ensure no in-place modifications\n",
        "    t = t.clone().detach()\n",
        "\n",
        "    # Find indices for strikes and times\n",
        "    strike_idx = torch.searchsorted(strikes, S).clamp(1, len(strikes) - 1)\n",
        "    time_idx = torch.searchsorted(times, t).clamp(1, len(times) - 1)\n",
        "\n",
        "    # Get bounding indices\n",
        "    strike_idx0 = strike_idx - 1\n",
        "    strike_idx1 = strike_idx\n",
        "    time_idx0 = time_idx - 1\n",
        "    time_idx1 = time_idx\n",
        "\n",
        "    # Get bounding values\n",
        "    S0, S1 = strikes[strike_idx0], strikes[strike_idx1]\n",
        "    t0, t1 = times[time_idx0], times[time_idx1]\n",
        "\n",
        "    # Get corresponding volatilities\n",
        "    vol00 = sigma_surface[strike_idx0, time_idx0]\n",
        "    vol01 = sigma_surface[strike_idx0, time_idx1]\n",
        "    vol10 = sigma_surface[strike_idx1, time_idx0]\n",
        "    vol11 = sigma_surface[strike_idx1, time_idx1]\n",
        "\n",
        "    # Bilinear interpolation\n",
        "    vol_t0 = vol00 + (vol10 - vol00) * (S - S0) / (S1 - S0)\n",
        "    vol_t1 = vol01 + (vol11 - vol01) * (S - S0) / (S1 - S0)\n",
        "    vol = vol_t0 + (vol_t1 - vol_t0) * (t - t0) / (t1 - t0)\n",
        "\n",
        "    return vol\n",
        "\n",
        "\n",
        "def monte_carlo_barrier_with_sensitivities(S0, K, H, T, r, sigma_surface, N_t, N_paths, strikes, times, option_type=\"call\"):\n",
        "    # Enable gradient tracking for the local volatility surface\n",
        "    sigma_surface = sigma_surface.clone().detach().requires_grad_(True)\n",
        "\n",
        "    # Simulate paths\n",
        "    paths, breached = simulate_paths_mc(S0, r, sigma_surface, T, H, N_t, N_paths, strikes, times)\n",
        "\n",
        "    # Terminal prices for paths that did not breach the barrier\n",
        "    terminal_prices = paths[:, -1]\n",
        "    if option_type == \"call\":\n",
        "        payoffs = torch.where(~breached, torch.maximum(terminal_prices - K, torch.tensor(0.0)), torch.tensor(0.0))\n",
        "    elif option_type == \"put\":\n",
        "        payoffs = torch.where(~breached, torch.maximum(K - terminal_prices, torch.tensor(0.0)), torch.tensor(0.0))\n",
        "    else:\n",
        "        raise ValueError(\"Unsupported option type\")\n",
        "\n",
        "    # Discount payoffs to today\n",
        "    discounted_payoffs = torch.exp((-r * T).clone().detach()) * payoffs\n",
        "    price = discounted_payoffs.mean()  # Monte Carlo estimate of the option price\n",
        "\n",
        "    # Calculate gradients (sensitivities) with respect to the local volatility surface\n",
        "    price.backward()  # Perform backpropagation\n",
        "    sensitivities = sigma_surface.grad  # Gradient of price w.r.t. the local volatility surface\n",
        "\n",
        "    return price.item(), sensitivities"
      ],
      "metadata": {
        "id": "AYGjpe9vFOjv"
      },
      "execution_count": null,
      "outputs": []
    },
    {
      "cell_type": "code",
      "source": [
        "# Example parameters\n",
        "S0 = torch.tensor(100.0)  # Spot price\n",
        "K = torch.tensor(100.0)  # Strike price\n",
        "H = torch.tensor(1500.0)  # Barrier level\n",
        "T = torch.tensor(2.0)  # Time to maturity (years)\n",
        "r = torch.tensor(0.05)  # Risk-free rate\n",
        "N_t = torch.tensor(312)  # Number of time steps (weekly)\n",
        "N_paths = 10000  # Number of Monte Carlo paths (reduced for testing)\n",
        "\n",
        "\n",
        "sigma_surface = torch.ones((10, 5), requires_grad=True) * 0.2  # 10 strikes, 5 maturities\n",
        "\n",
        "# Strike levels and time levels corresponding to the sigma_surface\n",
        "#strikes = torch.linspace(90, 150, sigma_surface.size(0))\n",
        "strikes = torch.linspace(90, 180, steps=10)\n",
        "#times = torch.linspace(0.0, T, sigma_surface.size(1))\n",
        "times = torch.linspace(0.1, 2.0, 5)  # Time to maturities (from 0.1 to 2 years)\n",
        "\n",
        "# Calculate price and sensitivities\n",
        "price, sensitivities = monte_carlo_barrier_with_sensitivities(S0, K, H, T, r, sigma_surface,\n",
        "                                                              N_t, N_paths, strikes, times, option_type=\"call\")\n",
        "\n",
        "print(f\"The price of the up-and-out barrier call option is: {price:.4f}\")\n",
        "print(\"Sensitivities with respect to the local volatility surface:\")\n",
        "print(sensitivities)\n"
      ],
      "metadata": {
        "id": "C1Wmwm1cI1KO"
      },
      "execution_count": null,
      "outputs": []
    },
    {
      "cell_type": "markdown",
      "source": [
        "## DEBUGGING"
      ],
      "metadata": {
        "id": "-gTgvqH-IZsr"
      }
    },
    {
      "cell_type": "code",
      "source": [
        "# Example parameters\n",
        "S0 = torch.tensor(100.0)  # Spot price\n",
        "K = torch.tensor(100.0)  # Strike price\n",
        "H = torch.tensor(150.0)  # Barrier level\n",
        "T = torch.tensor(2.0)  # Time to maturity (years)\n",
        "r = torch.tensor(0.05)  # Risk-free rate\n",
        "N_t = torch.tensor(312)  # Number of time steps (weekly)\n",
        "N_paths = 100000  # Number of Monte Carlo paths (reduced for testing)\n",
        "sigma_surface = torch.ones((10, 5), requires_grad=True) * 0.2  # 10 strikes, 5 maturities\n",
        "\n",
        "# Strike levels and time levels corresponding to the sigma_surface\n",
        "#strikes = torch.linspace(90, 150, sigma_surface.size(0))\n",
        "strikes = torch.linspace(90, 180, steps=10)\n",
        "#times = torch.linspace(0.0, T, sigma_surface.size(1))\n",
        "times = torch.linspace(0.1, 2.0, 5)  # Time to maturities (from 0.1 to 2 years)\n",
        "\n",
        "\n",
        "# Analytical\n",
        "analytical_price = barrier_option_price(S, K, T, r, sigma_surface[0, 0], H, option_type=\"call\",\n",
        "                                        barrier_type=\"up-and-out\")\n",
        "\n",
        "# Monte Carlo\n",
        "monte_carlo_price, _ = monte_carlo_barrier_with_sensitivities(S, K, H, T, r,\n",
        "                                                              sigma_surface, N_t, N_paths,\n",
        "                                                              strikes, times, option_type=\"call\")\n",
        "\n",
        "print(f\"Analytical Price: {analytical_price}\")\n",
        "print(f\"Monte Carlo Price: {monte_carlo_price}\")"
      ],
      "metadata": {
        "id": "Ph-6L9vkW56i"
      },
      "execution_count": null,
      "outputs": []
    },
    {
      "cell_type": "code",
      "source": [
        "def vanilla_option_price(S, K, T, r, sigma, option_type=\"call\"):\n",
        "    d1 = (torch.log(S / K) + (r + 0.5 * sigma**2) * T) / (sigma * torch.sqrt(T))\n",
        "    d2 = d1 - sigma * torch.sqrt(T)\n",
        "    normal = Normal(0, 1)\n",
        "\n",
        "    if option_type == \"call\":\n",
        "        return S * normal.cdf(d1) - K * torch.exp(-r * T) * normal.cdf(d2)\n",
        "    elif option_type == \"put\":\n",
        "        return K * torch.exp(-r * T) * normal.cdf(-d2) - S * normal.cdf(-d1)\n",
        "    else:\n",
        "        raise ValueError(\"Unsupported option type\")\n"
      ],
      "metadata": {
        "id": "4l04L5Z-cDor"
      },
      "execution_count": null,
      "outputs": []
    },
    {
      "cell_type": "code",
      "source": [
        "# Example parameters\n",
        "S0 = torch.tensor(100.0)  # Spot price\n",
        "K = torch.tensor(100.0)  # Strike price\n",
        "H = torch.tensor(150.0)  # Barrier level\n",
        "T = torch.tensor(2.0)  # Time to maturity (years)\n",
        "r = torch.tensor(0.05)  # Risk-free rate\n",
        "N_t = torch.tensor(312)  # Number of time steps (weekly)\n",
        "N_paths = 100000  # Number of Monte Carlo paths (reduced for testing)\n",
        "sigma_surface = torch.ones((10, 5), requires_grad=True) * 0.2  # 10 strikes, 5 maturities\n",
        "\n",
        "# Strike levels and time levels corresponding to the sigma_surface\n",
        "#strikes = torch.linspace(90, 150, sigma_surface.size(0))\n",
        "strikes = torch.linspace(90, 180, steps=10)\n",
        "#times = torch.linspace(0.0, T, sigma_surface.size(1))\n",
        "times = torch.linspace(0.1, 2.0, 5)  # Time to maturities (from 0.1 to 2 years)\n",
        "\n",
        "\n",
        "# High barrier\n",
        "high_barrier = 1500\n",
        "vanilla_price = vanilla_option_price(S, K, T, r, sigma_surface.mean())\n",
        "monte_carlo_price, _ = monte_carlo_barrier_with_sensitivities(S, K, H, T, r,\n",
        "                                                              sigma_surface, N_t, N_paths,\n",
        "                                                              strikes, times, option_type=\"call\")\n",
        "\n",
        "print(f\"Vanilla Option Price: {vanilla_price:.4f}\")\n",
        "print(f\"Barrier Option Price (High Barrier): {monte_carlo_price:.4f}\")\n"
      ],
      "metadata": {
        "id": "mfV4rGBkftJn"
      },
      "execution_count": null,
      "outputs": []
    },
    {
      "cell_type": "code",
      "source": [],
      "metadata": {
        "id": "vgC3y5tUfvTx"
      },
      "execution_count": null,
      "outputs": []
    }
  ]
}