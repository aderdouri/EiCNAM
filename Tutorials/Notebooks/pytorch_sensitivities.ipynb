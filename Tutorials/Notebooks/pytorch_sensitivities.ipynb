{
  "nbformat": 4,
  "nbformat_minor": 0,
  "metadata": {
    "colab": {
      "private_outputs": true,
      "provenance": [],
      "authorship_tag": "ABX9TyNwIj7SbYsE2jbCChOKB8Pv",
      "include_colab_link": true
    },
    "kernelspec": {
      "name": "python3",
      "display_name": "Python 3"
    }
  },
  "cells": [
    {
      "cell_type": "markdown",
      "metadata": {
        "id": "view-in-github",
        "colab_type": "text"
      },
      "source": [
        "<a href=\"https://colab.research.google.com/github/aderdouri/EiCNAM/blob/master/Tutorials/Notebooks/pytorch_sensitivities.ipynb\" target=\"_parent\"><img src=\"https://colab.research.google.com/assets/colab-badge.svg\" alt=\"Open In Colab\"/></a>"
      ]
    },
    {
      "cell_type": "markdown",
      "source": [],
      "metadata": {
        "id": "9NRg4aD8lWKp"
      }
    },
    {
      "cell_type": "markdown",
      "source": [
        "# Sensitivity of Option Price to Implied Volatility Surface\n"
      ],
      "metadata": {
        "id": "QguTMHmGlXj8"
      }
    },
    {
      "cell_type": "markdown",
      "source": [
        "The sensitivity of the option price $ C(K, T) $ to the implied volatility surface c \\sigma_{\\text{implied}}(K, T) $ is computed as:\n",
        "\n",
        "$\n",
        "\\frac{\\partial C(K, T)}{\\partial \\sigma_{\\text{implied}}(K, T)}.\n",
        "$\n",
        "\n",
        "This measures how a small change in the implied volatility at a specific strike $ K $ and maturity $ T $ affects the option price.\n"
      ],
      "metadata": {
        "id": "2wsRfjRvlbo7"
      }
    },
    {
      "cell_type": "markdown",
      "source": [
        "### Black-Scholes Option Pricing Formula\n",
        "\n",
        "The Black-Scholes option pricing formula for a European call option is given by:\n",
        "\n",
        "$\n",
        "C(K, T) = S_0 \\Phi(d_1) - K e^{-rT} \\Phi(d_2),\n",
        "$\n",
        "\n",
        "where:\n",
        "\n",
        "$\n",
        "d_1 = \\frac{\\ln\\left(\\frac{S_0}{K}\\right) + \\left(r + \\frac{1}{2} \\sigma^2\\right) T}{\\sigma \\sqrt{T}}, \\quad\n",
        "d_2 = d_1 - \\sigma \\sqrt{T}.\n",
        "$\n",
        "\n",
        "**Parameters:**\n",
        "- $ S_0 $: Spot price of the underlying asset,\n",
        "- $ K $: Strike price of the option,\n",
        "- $ T $: Time to maturity,\n",
        "- $ r $: Risk-free rate,\n",
        "- $ \\sigma $: Volatility,\n",
        "- $ \\Phi(x) $: Cumulative distribution function (CDF) of the standard normal distribution.\n"
      ],
      "metadata": {
        "id": "LNi85u0mluyQ"
      }
    },
    {
      "cell_type": "markdown",
      "source": [
        "### Volatility Surface Representation\n",
        "\n",
        "The implied volatility surface is represented as a grid of strike prices $ K $ and maturities $ T $:\n",
        "\n",
        "$\n",
        "\\sigma_{\\text{implied}}(K, T) =\n",
        "\\begin{bmatrix}\n",
        "\\sigma_{1,1} & \\sigma_{1,2} & \\cdots & \\sigma_{1,n} \\\\\n",
        "\\sigma_{2,1} & \\sigma_{2,2} & \\cdots & \\sigma_{2,n} \\\\\n",
        "\\vdots       & \\vdots       & \\ddots & \\vdots       \\\\\n",
        "\\sigma_{m,1} & \\sigma_{m,2} & \\cdots & \\sigma_{m,n} \\\\\n",
        "\\end{bmatrix}.\n",
        "$\n"
      ],
      "metadata": {
        "id": "MF6ebLxbmAJy"
      }
    },
    {
      "cell_type": "markdown",
      "source": [
        "### Sensitivity Calculation\n",
        "\n",
        "The sensitivity of the option price to the implied volatility surface is calculated by summing the option prices over the grid and taking the gradient with respect to the volatility surface:\n",
        "\n",
        "$\n",
        "\\frac{\\partial C}{\\partial \\sigma_{\\text{implied}}} =\n",
        "\\begin{bmatrix}\n",
        "\\frac{\\partial C_{1,1}}{\\partial \\sigma_{1,1}} & \\frac{\\partial C_{1,2}}{\\partial \\sigma_{1,2}} & \\cdots & \\frac{\\partial C_{1,n}}{\\partial \\sigma_{1,n}} \\\\\n",
        "\\frac{\\partial C_{2,1}}{\\partial \\sigma_{2,1}} & \\frac{\\partial C_{2,2}}{\\partial \\sigma_{2,2}} & \\cdots & \\frac{\\partial C_{2,n}}{\\partial \\sigma_{2,n}} \\\\\n",
        "\\vdots                                        & \\vdots                                        & \\ddots & \\vdots                                        \\\\\n",
        "\\frac{\\partial C_{m,1}}{\\partial \\sigma_{m,1}} & \\frac{\\partial C_{m,2}}{\\partial \\sigma_{m,2}} & \\cdots & \\frac{\\partial C_{m,n}}{\\partial \\sigma_{m,n}} \\\\\n",
        "\\end{bmatrix}.\n",
        "$\n",
        "\n",
        "Using PyTorch, this is implemented as:\n",
        "```python\n",
        "torch.autograd.grad(option_prices.sum(), implied_vol_surface)\n"
      ],
      "metadata": {
        "id": "xIVeCkuKmIWY"
      }
    },
    {
      "cell_type": "markdown",
      "source": [
        "\n",
        "#### **6. Markdown Cell: Output Interpretation**\n",
        "### Output Interpretation\n",
        "\n",
        "The output of the sensitivity calculation is a matrix of the same size as the implied volatility surface. Each entry represents:\n",
        "\n",
        "$\n",
        "\\text{sensitivity}_{ij} = \\frac{\\partial C(K_i, T_j)}{\\partial \\sigma_{\\text{implied}}(K_i, T_j)}.\n",
        "$\n",
        "\n",
        "This matrix quantifies the effect of changes in implied volatility on option prices across the entire surface.\n"
      ],
      "metadata": {
        "id": "Yanl97NjmRT_"
      }
    },
    {
      "cell_type": "markdown",
      "source": [
        "### Applications\n",
        "\n",
        "The sensitivity of option prices to the volatility surface is useful for:\n",
        "\n",
        "- Quantifying the impact of changes in implied volatility on option prices.\n",
        "- Developing risk management and hedging strategies.\n",
        "- Calibrating local volatility models for more accurate pricing.\n"
      ],
      "metadata": {
        "id": "Ouqaipp2mctX"
      }
    },
    {
      "cell_type": "code",
      "source": [
        "import torch\n",
        "\n",
        "# Risk-free rate\n",
        "r = 0.03  # Example: 3%\n",
        "\n",
        "# Define maturities (T) and strikes (K)\n",
        "T = torch.tensor([0.1, 0.5, 1.0, 2.0], requires_grad=True)  # Maturities\n",
        "K = torch.tensor([50, 60, 70, 80, 90, 100, 110, 120, 130],\n",
        "                 dtype=torch.float32, requires_grad=True)\n",
        "\n",
        "# Implied volatility surface\n",
        "implied_vol_surface = torch.tensor(\n",
        "    [\n",
        "        [0.20, 0.19, 0.18, 0.17, 0.16, 0.15, 0.16, 0.17, 0.18],\n",
        "        [0.21, 0.20, 0.19, 0.18, 0.17, 0.16, 0.17, 0.18, 0.19],\n",
        "        [0.22, 0.21, 0.20, 0.19, 0.18, 0.17, 0.18, 0.19, 0.20],\n",
        "        [0.23, 0.22, 0.21, 0.20, 0.19, 0.18, 0.19, 0.20, 0.21],\n",
        "    ],\n",
        "    requires_grad=True,\n",
        ")\n",
        "\n",
        "# Spot price\n",
        "S0 = 100  # Spot price\n",
        "\n",
        "# Black-Scholes option pricing function\n",
        "def option_price(S0, K, T, sigma, r):\n",
        "    d1 = (torch.log(S0 / K) + (r + 0.5 * sigma**2) * T) / (sigma * torch.sqrt(T))\n",
        "    d2 = d1 - sigma * torch.sqrt(T)\n",
        "    N = torch.distributions.Normal(0, 1)\n",
        "    return S0 * N.cdf(d1) - K * torch.exp(-r * T) * N.cdf(d2)\n",
        "\n",
        "# Calculate option prices\n",
        "option_prices = option_price(S0, K.view(1, -1), T.view(-1, 1), implied_vol_surface, r)\n",
        "\n",
        "# Sensitivity of option price to volatility surface\n",
        "sensitivity_to_volatility_surface = torch.autograd.grad(\n",
        "    outputs=option_prices.sum(),\n",
        "    inputs=implied_vol_surface,\n",
        "    create_graph=True,\n",
        ")[0]\n",
        "\n",
        "# Print the sensitivity matrix\n",
        "print(\"Sensitivity of Option Price to Volatility Surface:\")\n",
        "print(sensitivity_to_volatility_surface)\n"
      ],
      "metadata": {
        "id": "jUJo7T_VZcR1"
      },
      "execution_count": null,
      "outputs": []
    },
    {
      "cell_type": "code",
      "source": [
        "delta = 1e-5  # Small perturbation"
      ],
      "metadata": {
        "id": "Qc2K3ejbpz92"
      },
      "execution_count": null,
      "outputs": []
    },
    {
      "cell_type": "code",
      "source": [
        "# Function to calculate the option price\n",
        "def compute_option_prices(implied_vol_surface):\n",
        "    return option_price(S0, K.view(1, -1), T.view(-1, 1), implied_vol_surface, r)\n",
        "\n",
        "# Central finite difference approximation\n",
        "finite_diff_sensitivity = torch.zeros_like(implied_vol_surface)\n",
        "\n",
        "for i in range(implied_vol_surface.shape[0]):  # Iterate over rows (maturities)\n",
        "    for j in range(implied_vol_surface.shape[1]):  # Iterate over columns (strikes)\n",
        "        # Create perturbed volatility surfaces\n",
        "        vol_plus = implied_vol_surface.clone()\n",
        "        vol_minus = implied_vol_surface.clone()\n",
        "\n",
        "        # Apply perturbations\n",
        "        vol_plus[i, j] += delta\n",
        "        vol_minus[i, j] -= delta\n",
        "\n",
        "        # Compute option prices for perturbed surfaces\n",
        "        C_plus = compute_option_prices(vol_plus)\n",
        "        C_minus = compute_option_prices(vol_minus)\n",
        "\n",
        "        # Compute finite difference\n",
        "        finite_diff_sensitivity[i, j] = (C_plus.sum() - C_minus.sum()) / (2 * delta)\n"
      ],
      "metadata": {
        "id": "FQmqaga4puCl"
      },
      "execution_count": null,
      "outputs": []
    },
    {
      "cell_type": "code",
      "source": [
        "# Autograd sensitivity\n",
        "autograd_sensitivity = torch.autograd.grad(option_prices.sum(),\n",
        "                                           implied_vol_surface, retain_graph=True)[0]\n",
        "\n",
        "# Print the results\n",
        "print(\"Finite Difference Sensitivity:\")\n",
        "print(finite_diff_sensitivity)\n",
        "\n",
        "print(\"Autograd Sensitivity:\")\n",
        "print(autograd_sensitivity)\n"
      ],
      "metadata": {
        "id": "3IhR4HJMpuu3"
      },
      "execution_count": null,
      "outputs": []
    },
    {
      "cell_type": "code",
      "source": [
        "# Compute the relative error\n",
        "relative_error = torch.norm(finite_diff_sensitivity - autograd_sensitivity) / torch.norm(autograd_sensitivity)\n",
        "print(f\"Relative Error: {relative_error.item()}\")\n"
      ],
      "metadata": {
        "id": "nPU33SDyp5Lt"
      },
      "execution_count": null,
      "outputs": []
    },
    {
      "cell_type": "code",
      "source": [],
      "metadata": {
        "id": "j4sqKt8KqFGa"
      },
      "execution_count": null,
      "outputs": []
    }
  ]
}