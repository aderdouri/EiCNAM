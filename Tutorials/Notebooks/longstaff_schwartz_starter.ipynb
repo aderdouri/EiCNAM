{
  "cells": [
    {
      "cell_type": "markdown",
      "metadata": {
        "id": "view-in-github",
        "colab_type": "text"
      },
      "source": [
        "<a href=\"https://colab.research.google.com/github/aderdouri/EiCNAM/blob/master/Tutorials/Notebooks/longstaff_schwartz_starter.ipynb\" target=\"_parent\"><img src=\"https://colab.research.google.com/assets/colab-badge.svg\" alt=\"Open In Colab\"/></a>"
      ]
    },
    {
      "cell_type": "code",
      "source": [
        "import torch\n",
        "\n",
        "def longstaff_schwartz(S0, K, sigma, T, r, Np, NT):\n",
        "    \"\"\"\n",
        "    Longstaff-Schwartz algorithm implemented in PyTorch.\n",
        "\n",
        "    Args:\n",
        "        S0: Initial asset price.\n",
        "        K: Strike price.\n",
        "        sigma: Volatility.\n",
        "        T: Time to maturity.\n",
        "        r: Risk-free rate.\n",
        "        Np: Number of simulated paths.\n",
        "        NT: Number of time steps.\n",
        "\n",
        "    Returns:\n",
        "        V: Option value.\n",
        "    \"\"\"\n",
        "    dt = T / torch.tensor(NT, dtype=torch.float32)  # Ensure dt is a tensor\n",
        "    sqrt_dt = torch.sqrt(dt)\n",
        "\n",
        "    # Simulate paths\n",
        "    Z = torch.randn(Np, NT)\n",
        "    Sp = torch.zeros(Np, NT, dtype=torch.float32)\n",
        "    Sp[:, 0] = S0\n",
        "\n",
        "    for t in range(1, NT):\n",
        "        previous_step = Sp[:, t - 1].clone()  # Avoid modifying previous step\n",
        "        Sp[:, t] = previous_step * torch.exp((r - 0.5 * sigma**2) * dt + sigma * sqrt_dt * Z[:, t])\n",
        "\n",
        "    # Initialize cash flows\n",
        "    cash_flow = torch.maximum(K - Sp[:, -1], torch.tensor(0.0, dtype=torch.float32))\n",
        "    discount_factor = torch.exp(-r * dt)\n",
        "\n",
        "    # Backward induction\n",
        "    cash_flow = cash_flow.clone()  # Ensure no inplace modification\n",
        "    for t in range(NT - 2, 0, -1):\n",
        "        in_the_money = Sp[:, t] < K\n",
        "        itm_indices = torch.where(in_the_money)[0]\n",
        "\n",
        "        if len(itm_indices) > 0:\n",
        "            X = Sp[itm_indices, t]\n",
        "            Y = cash_flow[itm_indices] * discount_factor.clone()\n",
        "\n",
        "            # Regression to approximate continuation value\n",
        "            A = torch.stack([torch.ones_like(X), X, X**2], dim=1)\n",
        "            coeffs = torch.linalg.lstsq(A, Y).solution\n",
        "\n",
        "            continuation_value = coeffs[0] + coeffs[1] * X + coeffs[2] * X**2\n",
        "\n",
        "            exercise_value = K - X\n",
        "\n",
        "            exercise = exercise_value > continuation_value\n",
        "            exercise_indices = itm_indices[exercise]\n",
        "\n",
        "            cash_flow = cash_flow.clone()  # Avoid inplace modification\n",
        "            cash_flow[exercise_indices] = exercise_value[exercise]\n",
        "\n",
        "        cash_flow = cash_flow * discount_factor.clone()  # Ensure no inplace modification\n",
        "\n",
        "    # Final option value\n",
        "    V = cash_flow.mean() * torch.exp(-r * dt)\n",
        "    return V\n",
        "\n",
        "def calculate_sensitivities(S0, K, sigma, T, r, Np, NT):\n",
        "    \"\"\"\n",
        "    Calculate sensitivities (Delta, Vega, Rho, Theta) using automatic differentiation.\n",
        "\n",
        "    Args:\n",
        "        S0: Initial asset price.\n",
        "        K: Strike price.\n",
        "        sigma: Volatility.\n",
        "        T: Time to maturity.\n",
        "        r: Risk-free rate.\n",
        "        Np: Number of simulated paths.\n",
        "        NT: Number of time steps.\n",
        "\n",
        "    Returns:\n",
        "        sensitivities: Dictionary containing Delta, Vega, Rho, Theta.\n",
        "    \"\"\"\n",
        "    S0_t = torch.tensor(S0, requires_grad=True, dtype=torch.float32)\n",
        "    sigma_t = torch.tensor(sigma, requires_grad=True, dtype=torch.float32)\n",
        "    r_t = torch.tensor(r, requires_grad=True, dtype=torch.float32)\n",
        "    T_t = torch.tensor(T, requires_grad=True, dtype=torch.float32)\n",
        "\n",
        "    # Enable anomaly detection\n",
        "    with torch.autograd.set_detect_anomaly(True):\n",
        "        # Compute option value\n",
        "        V = longstaff_schwartz(S0_t, K, sigma_t, T_t, r_t, Np, NT)\n",
        "\n",
        "        # Compute gradients\n",
        "        V.backward()\n",
        "\n",
        "    delta = S0_t.grad.item()\n",
        "    vega = sigma_t.grad.item()\n",
        "    rho = r_t.grad.item()\n",
        "    theta = T_t.grad.item()\n",
        "\n",
        "    return {\n",
        "        \"Delta\": delta,\n",
        "        \"Vega\": vega,\n",
        "        \"Rho\": rho,\n",
        "        \"Theta\": theta\n",
        "    }\n",
        "\n",
        "# Parameters for testing\n",
        "S0 = 100.0\n",
        "K = 95.0\n",
        "sigma = 0.25\n",
        "T = 180 / 365\n",
        "r = 0.05\n",
        "Np = 5000\n",
        "NT = 1000\n",
        "\n",
        "# Test the algorithm\n",
        "option_value = longstaff_schwartz(S0, K, sigma, T, r, Np, NT)\n",
        "sensitivities = calculate_sensitivities(S0, K, sigma, T, r, Np, NT)\n",
        "\n",
        "print(f\"Option Value: {option_value}\")\n",
        "print(f\"Sensitivities: {sensitivities}\")\n"
      ],
      "metadata": {
        "colab": {
          "base_uri": "https://localhost:8080/"
        },
        "id": "7_uJQbAtIOyW",
        "outputId": "79cf6085-48b9-4308-c6fe-eaee34880fea"
      },
      "execution_count": null,
      "outputs": [
        {
          "output_type": "stream",
          "name": "stdout",
          "text": [
            "Estimated Option Value: 1.1780\n"
          ]
        }
      ]
    },
    {
      "cell_type": "code",
      "source": [
        "!git clone https://github.com/luphord/longstaff_schwartz.git"
      ],
      "metadata": {
        "id": "ogv5MgvIyPcv",
        "outputId": "37df8eec-225b-4a88-f253-807b97705177",
        "colab": {
          "base_uri": "https://localhost:8080/"
        }
      },
      "execution_count": null,
      "outputs": [
        {
          "output_type": "stream",
          "name": "stdout",
          "text": [
            "Cloning into 'longstaff_schwartz'...\n",
            "remote: Enumerating objects: 1046, done.\u001b[K\n",
            "remote: Counting objects: 100% (255/255), done.\u001b[K\n",
            "remote: Compressing objects: 100% (134/134), done.\u001b[K\n",
            "remote: Total 1046 (delta 128), reused 221 (delta 114), pack-reused 791 (from 1)\u001b[K\n",
            "Receiving objects: 100% (1046/1046), 12.07 MiB | 14.58 MiB/s, done.\n",
            "Resolving deltas: 100% (642/642), done.\n"
          ]
        }
      ]
    },
    {
      "cell_type": "code",
      "source": [
        "!ls -ltr"
      ],
      "metadata": {
        "id": "U2VqSMYEyih6",
        "outputId": "e4c52584-ce7a-402a-e05f-921e2b7d2600",
        "colab": {
          "base_uri": "https://localhost:8080/"
        }
      },
      "execution_count": null,
      "outputs": [
        {
          "output_type": "stream",
          "name": "stdout",
          "text": [
            "total 8\n",
            "drwxr-xr-x 1 root root 4096 Jan 16 14:29 sample_data\n",
            "drwxr-xr-x 9 root root 4096 Jan 21 16:54 longstaff_schwartz\n"
          ]
        }
      ]
    },
    {
      "cell_type": "code",
      "source": [
        "!pip install ./longstaff_schwartz"
      ],
      "metadata": {
        "id": "if9w9cteymgZ"
      },
      "execution_count": null,
      "outputs": []
    },
    {
      "cell_type": "code",
      "source": [
        "%cd longstaff_schwartz"
      ],
      "metadata": {
        "colab": {
          "base_uri": "https://localhost:8080/"
        },
        "id": "l3lI_Z1P3tLH",
        "outputId": "ca269ff0-5403-4e50-ff8e-614cb1d4d7c7"
      },
      "execution_count": null,
      "outputs": [
        {
          "output_type": "stream",
          "name": "stdout",
          "text": [
            "/content/longstaff_schwartz\n"
          ]
        }
      ]
    },
    {
      "cell_type": "code",
      "source": [
        "from longstaff_schwartz.algorithm import longstaff_schwartz\n",
        "from longstaff_schwartz.stochastic_process import GeometricBrownianMotion\n",
        "import numpy as np\n",
        "\n",
        "\n",
        "T = 180/365\n",
        "#Np = 5000, NT = 1000.\n",
        "# Model parameters\n",
        "t = np.linspace(0, T, 5000)  # timegrid for simulation\n",
        "r = 0.05  # riskless rate\n",
        "sigma = 0.25  # annual volatility of underlying\n",
        "n = 5000  # number of simulated paths\n",
        "S0 = 100.0\n",
        "K  = 95.0\n",
        "\n",
        "# Simulate the underlying\n",
        "gbm = GeometricBrownianMotion(mu=r, sigma=sigma)\n",
        "rnd = np.random.RandomState(1234)\n",
        "x = gbm.simulate(t, n, rnd)  # x.shape == (t.size, n)\n",
        "\n",
        "x *= S0\n",
        "\n",
        "# Payoff (exercise) function\n",
        "strike = 95.0\n",
        "\n",
        "def put_payoff(spot):\n",
        "    return np.maximum(strike - spot, 0.0)\n",
        "\n",
        "# Discount factor function\n",
        "def constant_rate_df(t_from, t_to):\n",
        "    return np.exp(-r * (t_to - t_from))\n",
        "\n",
        "# Approximation of continuation value\n",
        "#def fit_quadratic(x, y):\n",
        "#    return np.polynomial.Polynomial.fit(x, y, 2, rcond=None)\n",
        "\n",
        "# Approximation of continuation value\n",
        "def fit_quadratic(x, y):\n",
        "    if len(x) == 0 or len(y) == 0:\n",
        "        return lambda x: np.zeros_like(x, dtype=float)\n",
        "    try:\n",
        "        # Attempt to fit using the original method\n",
        "        return np.polynomial.Polynomial.fit(x, y, 2, rcond=None)\n",
        "    except np.linalg.LinAlgError:\n",
        "        # If SVD fails, use a more robust method like 'lstsq' directly\n",
        "        A = np.vstack([x**0, x**1, x**2]).T  # Construct the design matrix\n",
        "        coeffs, _, _, _ = np.linalg.lstsq(A, y, rcond=None)\n",
        "        return np.polynomial.Polynomial(coeffs)  # Return a Polynomial object\n",
        "\n",
        "# Selection of paths to consider for exercise\n",
        "# (and continuation value approxmation)\n",
        "def itm(payoff, spot):\n",
        "    return payoff > 0\n",
        "\n",
        "# Run valuation of American put option\n",
        "npv_american = longstaff_schwartz(x, t, constant_rate_df,\n",
        "                                  fit_quadratic, put_payoff, itm)\n",
        "\n",
        "# European put option for comparison\n",
        "npv_european = constant_rate_df(t[0], t[-1]) * put_payoff(x[-1]).mean()\n",
        "\n",
        "# Check results\n",
        "#assert np.round(npv_american, 4) == 0.0734\n",
        "#assert np.round(npv_european, 4) == 0.0626\n",
        "#assert npv_american > npv_european\n",
        "\n",
        "print(f\"npv_american: {npv_american:.4f}\")\n",
        "print(f\"npv_european: {npv_european:.4f}\")"
      ],
      "metadata": {
        "id": "BjyrruUdI5cr",
        "colab": {
          "base_uri": "https://localhost:8080/"
        },
        "outputId": "a77d56bd-55d2-4555-b664-93bb44befd96"
      },
      "execution_count": null,
      "outputs": [
        {
          "output_type": "stream",
          "name": "stdout",
          "text": [
            "npv_american: 3.7927\n",
            "npv_european: 3.6678\n"
          ]
        },
        {
          "output_type": "stream",
          "name": "stderr",
          "text": [
            "/usr/local/lib/python3.11/dist-packages/numpy/polynomial/polynomial.py:1362: RankWarning: The fit may be poorly conditioned\n",
            "  return pu._fit(polyvander, x, y, deg, rcond, full, w)\n",
            "/usr/local/lib/python3.11/dist-packages/numpy/polynomial/polyutils.py:303: RuntimeWarning: divide by zero encountered in scalar divide\n",
            "  off = (old[1]*new[0] - old[0]*new[1])/oldlen\n",
            "/usr/local/lib/python3.11/dist-packages/numpy/polynomial/polyutils.py:304: RuntimeWarning: divide by zero encountered in scalar divide\n",
            "  scl = newlen/oldlen\n",
            "/usr/local/lib/python3.11/dist-packages/numpy/polynomial/polyutils.py:372: RuntimeWarning: invalid value encountered in add\n",
            "  return off + scl*x\n"
          ]
        }
      ]
    },
    {
      "cell_type": "code",
      "source": [],
      "metadata": {
        "id": "E72dA1EjmdOz"
      },
      "execution_count": null,
      "outputs": []
    }
  ],
  "metadata": {
    "colab": {
      "name": "Welcome To Colab",
      "provenance": [],
      "include_colab_link": true
    },
    "kernelspec": {
      "display_name": "Python 3",
      "name": "python3"
    }
  },
  "nbformat": 4,
  "nbformat_minor": 0
}