{
  "cells": [
    {
      "cell_type": "markdown",
      "metadata": {
        "id": "view-in-github",
        "colab_type": "text"
      },
      "source": [
        "<a href=\"https://colab.research.google.com/github/aderdouri/EiCNAM/blob/master/Tutorials/Notebooks/longstaff_schwartz_starter.ipynb\" target=\"_parent\"><img src=\"https://colab.research.google.com/assets/colab-badge.svg\" alt=\"Open In Colab\"/></a>"
      ]
    },
    {
      "cell_type": "code",
      "source": [
        "import torch\n",
        "\n",
        "def generate_asset_paths(S0, sigma, T, r, Nt, Np, Z):\n",
        "    \"\"\"\n",
        "    Generate asset paths for a given set of parameters using the equation provided in the first image.\n",
        "\n",
        "    Args:\n",
        "        S0 (float): Initial stock price.\n",
        "        sigma (float): Volatility.\n",
        "        T (float): Time to maturity.\n",
        "        r (float): Risk-free rate.\n",
        "        Nt (int): Number of time steps.\n",
        "        Np (int): Number of paths.\n",
        "        Z (torch.Tensor): Standard normal random variables (size: Np x Nt).\n",
        "\n",
        "    Returns:\n",
        "        torch.Tensor: Simulated asset paths (size: Np x Nt).\n",
        "    \"\"\"\n",
        "    dt = torch.tensor(T / Nt)\n",
        "    t = torch.arange(1, Nt + 1).float() * dt\n",
        "    drift = (r - 0.5 * sigma ** 2) * t / Nt\n",
        "    diffusion = sigma * torch.cumsum(Z, dim=1) * torch.sqrt(dt)\n",
        "    paths = S0 * torch.exp(drift.unsqueeze(0) + diffusion)\n",
        "    return paths\n",
        "\n",
        "def longstaff_schwartz(S0, sigma, T, r, Nt, Np, K):\n",
        "    \"\"\"\n",
        "    Implement the Longstaff-Schwartz algorithm for American option pricing.\n",
        "\n",
        "    Args:\n",
        "        S0 (float): Initial stock price.\n",
        "        sigma (float): Volatility.\n",
        "        T (float): Time to maturity.\n",
        "        r (float): Risk-free rate.\n",
        "        Nt (int): Number of time steps.\n",
        "        Np (int): Number of paths.\n",
        "        K (float): Strike price.\n",
        "\n",
        "    Returns:\n",
        "        float: Estimated option value.\n",
        "    \"\"\"\n",
        "    dt = torch.tensor(T / Nt)\n",
        "    Z = torch.randn(Np, Nt)  # Standard normal random variables\n",
        "    paths = generate_asset_paths(S0, sigma, T, r, Nt, Np, Z)\n",
        "\n",
        "    vp = torch.zeros(Np)\n",
        "    tp = torch.zeros(Np, dtype=torch.long)\n",
        "\n",
        "    # Final cash flow at maturity\n",
        "    vp = torch.maximum(K - paths[:, -1], torch.tensor(0.0))\n",
        "    tp = torch.full((Np,), Nt, dtype=torch.long)\n",
        "\n",
        "    # Iterate backward in time\n",
        "    for t in range(Nt - 1, 0, -1):\n",
        "        discount_factor = torch.exp(-r * dt)\n",
        "        vp = vp * discount_factor\n",
        "\n",
        "        in_the_money = paths[:, t - 1] < K\n",
        "        exercise_value = K - paths[:, t - 1]\n",
        "\n",
        "        # Perform regression to find continuation value\n",
        "        X = paths[in_the_money, t - 1]\n",
        "        Y = vp[in_the_money]\n",
        "\n",
        "        if len(X) > 0:\n",
        "            A = torch.stack([torch.ones_like(X), X, X ** 2], dim=1)\n",
        "            beta = torch.linalg.lstsq(A, Y).solution\n",
        "            continuation_value = A @ beta\n",
        "\n",
        "            # Decide whether to exercise or continue\n",
        "            exercise_indices = in_the_money.nonzero(as_tuple=True)[0]\n",
        "            for i, idx in enumerate(exercise_indices):\n",
        "                if exercise_value[idx] > continuation_value[i]:\n",
        "                    vp[idx] = exercise_value[idx]\n",
        "                    tp[idx] = t\n",
        "\n",
        "    # Compute the option value\n",
        "    V = torch.mean(vp) * torch.exp(-r * dt * tp.float().mean())\n",
        "    return V.item()\n",
        "\n",
        "# Parameters\n",
        "S0 = 100.0\n",
        "sigma = 0.25\n",
        "T = 180/365\n",
        "r = 0.05\n",
        "Nt = 1000\n",
        "Np = 5000\n",
        "K = 95.0\n",
        "\n",
        "# Execute the Longstaff-Schwartz algorithm\n",
        "option_value = longstaff_schwartz(S0, sigma, T, r, Nt, Np, K)\n",
        "print(f\"Estimated Option Value: {option_value:.4f}\")"
      ],
      "metadata": {
        "colab": {
          "base_uri": "https://localhost:8080/"
        },
        "id": "7_uJQbAtIOyW",
        "outputId": "79cf6085-48b9-4308-c6fe-eaee34880fea"
      },
      "execution_count": 5,
      "outputs": [
        {
          "output_type": "stream",
          "name": "stdout",
          "text": [
            "Estimated Option Value: 1.1780\n"
          ]
        }
      ]
    },
    {
      "cell_type": "code",
      "source": [
        "!git clone https://github.com/luphord/longstaff_schwartz.git"
      ],
      "metadata": {
        "id": "ogv5MgvIyPcv",
        "outputId": "37df8eec-225b-4a88-f253-807b97705177",
        "colab": {
          "base_uri": "https://localhost:8080/"
        }
      },
      "execution_count": 1,
      "outputs": [
        {
          "output_type": "stream",
          "name": "stdout",
          "text": [
            "Cloning into 'longstaff_schwartz'...\n",
            "remote: Enumerating objects: 1046, done.\u001b[K\n",
            "remote: Counting objects: 100% (255/255), done.\u001b[K\n",
            "remote: Compressing objects: 100% (134/134), done.\u001b[K\n",
            "remote: Total 1046 (delta 128), reused 221 (delta 114), pack-reused 791 (from 1)\u001b[K\n",
            "Receiving objects: 100% (1046/1046), 12.07 MiB | 14.58 MiB/s, done.\n",
            "Resolving deltas: 100% (642/642), done.\n"
          ]
        }
      ]
    },
    {
      "cell_type": "code",
      "source": [
        "!ls -ltr"
      ],
      "metadata": {
        "id": "U2VqSMYEyih6",
        "outputId": "e4c52584-ce7a-402a-e05f-921e2b7d2600",
        "colab": {
          "base_uri": "https://localhost:8080/"
        }
      },
      "execution_count": null,
      "outputs": [
        {
          "output_type": "stream",
          "name": "stdout",
          "text": [
            "total 8\n",
            "drwxr-xr-x 1 root root 4096 Jan 16 14:29 sample_data\n",
            "drwxr-xr-x 9 root root 4096 Jan 21 16:54 longstaff_schwartz\n"
          ]
        }
      ]
    },
    {
      "cell_type": "code",
      "source": [
        "!pip install ./longstaff_schwartz"
      ],
      "metadata": {
        "id": "if9w9cteymgZ"
      },
      "execution_count": null,
      "outputs": []
    },
    {
      "cell_type": "code",
      "source": [
        "%cd longstaff_schwartz"
      ],
      "metadata": {
        "id": "l3lI_Z1P3tLH",
        "outputId": "ca269ff0-5403-4e50-ff8e-614cb1d4d7c7",
        "colab": {
          "base_uri": "https://localhost:8080/"
        }
      },
      "execution_count": 2,
      "outputs": [
        {
          "output_type": "stream",
          "name": "stdout",
          "text": [
            "/content/longstaff_schwartz\n"
          ]
        }
      ]
    },
    {
      "cell_type": "code",
      "source": [
        "from longstaff_schwartz.algorithm import longstaff_schwartz\n",
        "from longstaff_schwartz.stochastic_process import GeometricBrownianMotion\n",
        "import numpy as np\n",
        "\n",
        "\n",
        "T = 180/365\n",
        "#Np = 5000, NT = 1000.\n",
        "# Model parameters\n",
        "t = np.linspace(0, T, 5000)  # timegrid for simulation\n",
        "r = 0.05  # riskless rate\n",
        "sigma = 0.25  # annual volatility of underlying\n",
        "n = 5000  # number of simulated paths\n",
        "S0 = 100.0\n",
        "K  = 95.0\n",
        "\n",
        "# Simulate the underlying\n",
        "gbm = GeometricBrownianMotion(mu=r, sigma=sigma)\n",
        "rnd = np.random.RandomState(1234)\n",
        "x = gbm.simulate(t, n, rnd)  # x.shape == (t.size, n)\n",
        "\n",
        "x *= S0\n",
        "\n",
        "# Payoff (exercise) function\n",
        "strike = 95.0\n",
        "\n",
        "def put_payoff(spot):\n",
        "    return np.maximum(strike - spot, 0.0)\n",
        "\n",
        "# Discount factor function\n",
        "def constant_rate_df(t_from, t_to):\n",
        "    return np.exp(-r * (t_to - t_from))\n",
        "\n",
        "# Approximation of continuation value\n",
        "#def fit_quadratic(x, y):\n",
        "#    return np.polynomial.Polynomial.fit(x, y, 2, rcond=None)\n",
        "\n",
        "# Approximation of continuation value\n",
        "def fit_quadratic(x, y):\n",
        "    if len(x) == 0 or len(y) == 0:\n",
        "        return lambda x: np.zeros_like(x, dtype=float)\n",
        "    try:\n",
        "        # Attempt to fit using the original method\n",
        "        return np.polynomial.Polynomial.fit(x, y, 2, rcond=None)\n",
        "    except np.linalg.LinAlgError:\n",
        "        # If SVD fails, use a more robust method like 'lstsq' directly\n",
        "        A = np.vstack([x**0, x**1, x**2]).T  # Construct the design matrix\n",
        "        coeffs, _, _, _ = np.linalg.lstsq(A, y, rcond=None)\n",
        "        return np.polynomial.Polynomial(coeffs)  # Return a Polynomial object\n",
        "\n",
        "# Selection of paths to consider for exercise\n",
        "# (and continuation value approxmation)\n",
        "def itm(payoff, spot):\n",
        "    return payoff > 0\n",
        "\n",
        "# Run valuation of American put option\n",
        "npv_american = longstaff_schwartz(x, t, constant_rate_df,\n",
        "                                  fit_quadratic, put_payoff, itm)\n",
        "\n",
        "# European put option for comparison\n",
        "npv_european = constant_rate_df(t[0], t[-1]) * put_payoff(x[-1]).mean()\n",
        "\n",
        "# Check results\n",
        "#assert np.round(npv_american, 4) == 0.0734\n",
        "#assert np.round(npv_european, 4) == 0.0626\n",
        "#assert npv_american > npv_european\n",
        "\n",
        "print(f\"npv_american: {npv_american:.4f}\")\n",
        "print(f\"npv_european: {npv_european:.4f}\")"
      ],
      "metadata": {
        "id": "BjyrruUdI5cr",
        "outputId": "a77d56bd-55d2-4555-b664-93bb44befd96",
        "colab": {
          "base_uri": "https://localhost:8080/"
        }
      },
      "execution_count": 4,
      "outputs": [
        {
          "output_type": "stream",
          "name": "stdout",
          "text": [
            "npv_american: 3.7927\n",
            "npv_european: 3.6678\n"
          ]
        },
        {
          "output_type": "stream",
          "name": "stderr",
          "text": [
            "/usr/local/lib/python3.11/dist-packages/numpy/polynomial/polynomial.py:1362: RankWarning: The fit may be poorly conditioned\n",
            "  return pu._fit(polyvander, x, y, deg, rcond, full, w)\n",
            "/usr/local/lib/python3.11/dist-packages/numpy/polynomial/polyutils.py:303: RuntimeWarning: divide by zero encountered in scalar divide\n",
            "  off = (old[1]*new[0] - old[0]*new[1])/oldlen\n",
            "/usr/local/lib/python3.11/dist-packages/numpy/polynomial/polyutils.py:304: RuntimeWarning: divide by zero encountered in scalar divide\n",
            "  scl = newlen/oldlen\n",
            "/usr/local/lib/python3.11/dist-packages/numpy/polynomial/polyutils.py:372: RuntimeWarning: invalid value encountered in add\n",
            "  return off + scl*x\n"
          ]
        }
      ]
    },
    {
      "cell_type": "code",
      "source": [
        "import numpy as np\n",
        "import tensorflow as tf\n",
        "import tensorflow_probability as tfp\n",
        "#import tf_quant_finance as tff\n",
        "\n",
        "# Parameters\n",
        "S0 = 100.0  # Initial stock price\n",
        "K = 95.0    # Strike price\n",
        "sigma = 0.25  # Volatility\n",
        "T = 180 / 365  # Time to maturity (in years)\n",
        "r = 0.05  # Risk-free rate\n",
        "\n",
        "Np = 100000  # Number of paths\n",
        "NT = 1000  # Number of time steps\n",
        "dt = T / NT  # Time step size\n",
        "\n",
        "# Generate random numbers for paths\n",
        "Zp = np.random.normal(size=(Np, NT))\n",
        "\n",
        "# Drift and volatility functions\n",
        "def drift_fn(_, x):\n",
        "    return r - sigma**2 * tf.ones_like(x) / 2.0\n",
        "\n",
        "def vol_fn(_, x):\n",
        "    return sigma * tf.expand_dims(tf.ones_like(x), axis=-1)\n",
        "\n",
        "# Function to propagate paths using Euler scheme\n",
        "def propagate_paths(S0, sigma, T, r, NT, Zp):\n",
        "    dt = T / NT\n",
        "    S = np.zeros((Np, NT + 1))\n",
        "    S[:, 0] = S0\n",
        "    for t in range(1, NT + 1):\n",
        "        S[:, t] = S[:, t-1] * np.exp((r - 0.5 * sigma**2) * dt + sigma * np.sqrt(dt) * Zp[:, t-1])\n",
        "    return S\n",
        "\n",
        "# Initialize variables\n",
        "S = propagate_paths(S0, sigma, T, r, NT, Zp)\n",
        "v = np.zeros(Np)\n",
        "t_tilde = np.zeros(Np)\n",
        "\n",
        "# Step 1: Calculate payoff at maturity\n",
        "for p in range(Np):\n",
        "    if S[p, NT] < K:\n",
        "        v[p] = K - S[p, NT]\n",
        "        t_tilde[p] = NT\n",
        "    else:\n",
        "        v[p] = 0\n",
        "\n",
        "# Step 2: Backward induction\n",
        "for t in range(NT - 1, 0, -1):\n",
        "    I = []\n",
        "    for p in range(Np):\n",
        "        v[p] *= np.exp(-r * T / NT)\n",
        "        S[p, t] = S[p, t-1] * np.exp((r - 0.5 * sigma**2) * dt + sigma * np.sqrt(dt) * Zp[p, t-1])\n",
        "        if S[p, t] < K:\n",
        "            I.append(p)\n",
        "\n",
        "    # Regression to find exercise boundary\n",
        "    if len(I) > 0:\n",
        "        X = S[I, t]\n",
        "        Y = v[I]\n",
        "        b_coeffs = np.polyfit(X, Y, 2)  # Polynomial regression of degree 2\n",
        "\n",
        "        for p in I:\n",
        "            # Evaluate the polynomial at the specific point S[p, t]\n",
        "            b_val = np.polyval(b_coeffs, S[p, t])\n",
        "            if S[p, t] < b_val:\n",
        "                v[p] = K - S[p, t]\n",
        "                t_tilde[p] = t\n",
        "\n",
        "# Step 3: Calculate option value\n",
        "V = np.sum(v) * np.exp(-r * T / NT) / Np\n",
        "print(f\"Option Value: {V:.4f}\")"
      ],
      "metadata": {
        "id": "1BHiXa1w3yC6",
        "outputId": "d7ce19a2-34e7-4abf-de82-e88f720dacdb",
        "colab": {
          "base_uri": "https://localhost:8080/"
        }
      },
      "execution_count": 8,
      "outputs": [
        {
          "output_type": "stream",
          "name": "stderr",
          "text": [
            "<ipython-input-8-1b853ccf506c>:62: RankWarning: Polyfit may be poorly conditioned\n",
            "  b_coeffs = np.polyfit(X, Y, 2)  # Polynomial regression of degree 2\n"
          ]
        },
        {
          "output_type": "stream",
          "name": "stdout",
          "text": [
            "Option Value: 3.6962\n"
          ]
        }
      ]
    },
    {
      "cell_type": "code",
      "source": [],
      "metadata": {
        "id": "-PNuo0A3U4JO"
      },
      "execution_count": null,
      "outputs": []
    }
  ],
  "metadata": {
    "colab": {
      "name": "Welcome To Colab",
      "provenance": [],
      "include_colab_link": true
    },
    "kernelspec": {
      "display_name": "Python 3",
      "name": "python3"
    }
  },
  "nbformat": 4,
  "nbformat_minor": 0
}