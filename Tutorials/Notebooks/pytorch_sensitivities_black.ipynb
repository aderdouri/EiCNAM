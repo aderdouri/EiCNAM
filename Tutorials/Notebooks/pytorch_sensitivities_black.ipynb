{
  "nbformat": 4,
  "nbformat_minor": 0,
  "metadata": {
    "colab": {
      "private_outputs": true,
      "provenance": [],
      "authorship_tag": "ABX9TyOsUki9YSuyKHEq07tb0A5z",
      "include_colab_link": true
    },
    "kernelspec": {
      "name": "python3",
      "display_name": "Python 3"
    }
  },
  "cells": [
    {
      "cell_type": "markdown",
      "metadata": {
        "id": "view-in-github",
        "colab_type": "text"
      },
      "source": [
        "<a href=\"https://colab.research.google.com/github/aderdouri/EiCNAM/blob/master/Tutorials/Notebooks/pytorch_sensitivities_black.ipynb\" target=\"_parent\"><img src=\"https://colab.research.google.com/assets/colab-badge.svg\" alt=\"Open In Colab\"/></a>"
      ]
    },
    {
      "cell_type": "markdown",
      "source": [],
      "metadata": {
        "id": "9NRg4aD8lWKp"
      }
    },
    {
      "cell_type": "markdown",
      "source": [
        "# Sensitivity of Option Price to Implied Volatility Surface\n"
      ],
      "metadata": {
        "id": "QguTMHmGlXj8"
      }
    },
    {
      "cell_type": "markdown",
      "source": [
        "The sensitivity of the option price $C(K, T)$ to the implied volatility surface $ \\sigma_{\\text{implied}}(K, T) $ is computed as:\n",
        "\n",
        "$\n",
        "\\frac{\\partial C(K, T)}{\\partial \\sigma_{\\text{implied}}(K, T)}.\n",
        "$\n",
        "\n",
        "This measures how a small change in the implied volatility at a specific strike $ K $ and maturity $ T $ affects the option price.\n"
      ],
      "metadata": {
        "id": "2wsRfjRvlbo7"
      }
    },
    {
      "cell_type": "markdown",
      "source": [
        "### Black-Scholes Option Pricing Formula\n",
        "\n",
        "The Black-Scholes option pricing formula for a European call option is given by:\n",
        "\n",
        "$\n",
        "C(K, T) = S_0 \\Phi(d_1) - K e^{-rT} \\Phi(d_2),\n",
        "$\n",
        "\n",
        "where:\n",
        "\n",
        "$\n",
        "d_1 = \\frac{\\ln\\left(\\frac{S_0}{K}\\right) + \\left(r + \\frac{1}{2} \\sigma^2\\right) T}{\\sigma \\sqrt{T}}, \\quad\n",
        "d_2 = d_1 - \\sigma \\sqrt{T}.\n",
        "$\n",
        "\n",
        "**Parameters:**\n",
        "- $ S_0 $: Spot price of the underlying asset,\n",
        "- $ K $: Strike price of the option,\n",
        "- $ T $: Time to maturity,\n",
        "- $ r $: Risk-free rate,\n",
        "- $ \\sigma $: Volatility,\n",
        "- $ \\Phi(x) $: Cumulative distribution function (CDF) of the standard normal distribution.\n"
      ],
      "metadata": {
        "id": "LNi85u0mluyQ"
      }
    },
    {
      "cell_type": "markdown",
      "source": [
        "### Volatility Surface Representation\n",
        "\n",
        "The implied volatility surface is represented as a grid of strike prices $ K $ and maturities $ T $:\n",
        "\n",
        "$\n",
        "\\sigma_{\\text{implied}}(K, T) =\n",
        "\\begin{bmatrix}\n",
        "\\sigma_{1,1} & \\sigma_{1,2} & \\cdots & \\sigma_{1,n} \\\\\n",
        "\\sigma_{2,1} & \\sigma_{2,2} & \\cdots & \\sigma_{2,n} \\\\\n",
        "\\vdots       & \\vdots       & \\ddots & \\vdots       \\\\\n",
        "\\sigma_{m,1} & \\sigma_{m,2} & \\cdots & \\sigma_{m,n} \\\\\n",
        "\\end{bmatrix}.\n",
        "$\n"
      ],
      "metadata": {
        "id": "MF6ebLxbmAJy"
      }
    },
    {
      "cell_type": "markdown",
      "source": [
        "### Sensitivity Calculation\n",
        "\n",
        "The sensitivity of the option price to the implied volatility surface is calculated by summing the option prices over the grid and taking the gradient with respect to the volatility surface:\n",
        "\n",
        "$\n",
        "\\frac{\\partial C}{\\partial \\sigma_{\\text{implied}}} =\n",
        "\\begin{bmatrix}\n",
        "\\frac{\\partial C_{1,1}}{\\partial \\sigma_{1,1}} & \\frac{\\partial C_{1,2}}{\\partial \\sigma_{1,2}} & \\cdots & \\frac{\\partial C_{1,n}}{\\partial \\sigma_{1,n}} \\\\\n",
        "\\frac{\\partial C_{2,1}}{\\partial \\sigma_{2,1}} & \\frac{\\partial C_{2,2}}{\\partial \\sigma_{2,2}} & \\cdots & \\frac{\\partial C_{2,n}}{\\partial \\sigma_{2,n}} \\\\\n",
        "\\vdots                                        & \\vdots                                        & \\ddots & \\vdots                                        \\\\\n",
        "\\frac{\\partial C_{m,1}}{\\partial \\sigma_{m,1}} & \\frac{\\partial C_{m,2}}{\\partial \\sigma_{m,2}} & \\cdots & \\frac{\\partial C_{m,n}}{\\partial \\sigma_{m,n}} \\\\\n",
        "\\end{bmatrix}.\n",
        "$\n",
        "\n",
        "Using PyTorch, this is implemented as:\n",
        "```python\n",
        "torch.autograd.grad(option_prices.sum(), implied_vol_surface)\n"
      ],
      "metadata": {
        "id": "xIVeCkuKmIWY"
      }
    },
    {
      "cell_type": "markdown",
      "source": [
        "\n",
        "### Output Interpretation\n",
        "\n",
        "The output of the sensitivity calculation is a matrix of the same size as the implied volatility surface. Each entry represents:\n",
        "\n",
        "$\n",
        "\\text{sensitivity}_{ij} = \\frac{\\partial C(K_i, T_j)}{\\partial \\sigma_{\\text{implied}}(K_i, T_j)}.\n",
        "$\n",
        "\n",
        "This matrix quantifies the effect of changes in implied volatility on option prices across the entire surface.\n"
      ],
      "metadata": {
        "id": "Yanl97NjmRT_"
      }
    },
    {
      "cell_type": "markdown",
      "source": [
        "### Applications\n",
        "\n",
        "The sensitivity of option prices to the volatility surface is useful for:\n",
        "\n",
        "- Quantifying the impact of changes in implied volatility on option prices.\n",
        "- Developing risk management and hedging strategies.\n",
        "- Calibrating local volatility models for more accurate pricing.\n"
      ],
      "metadata": {
        "id": "Ouqaipp2mctX"
      }
    },
    {
      "cell_type": "code",
      "source": [
        "import torch"
      ],
      "metadata": {
        "id": "Ia-Am4umzKpm"
      },
      "execution_count": null,
      "outputs": []
    },
    {
      "cell_type": "code",
      "source": [
        "# Print the sensitivity matrix without scientific notation\n",
        "torch.set_printoptions(sci_mode=False)"
      ],
      "metadata": {
        "id": "FqL-zBCPzP9B"
      },
      "execution_count": null,
      "outputs": []
    },
    {
      "cell_type": "code",
      "source": [
        "# Risk-free rate\n",
        "r = 0.03  # Example: 3%\n",
        "\n",
        "# Define maturities (T) and strikes (K)\n",
        "T = torch.tensor([0.1, 0.5, 1.0, 2.0], requires_grad=True)  # Maturities\n",
        "K = torch.tensor([50, 60, 70, 80, 90, 100, 110, 120, 130],\n",
        "                 dtype=torch.float32, requires_grad=True)\n",
        "\n",
        "# Implied volatility surface\n",
        "implied_vol_surface = torch.tensor(\n",
        "    [\n",
        "        [0.20, 0.19, 0.18, 0.17, 0.16, 0.15, 0.16, 0.17, 0.18],\n",
        "        [0.21, 0.20, 0.19, 0.18, 0.17, 0.16, 0.17, 0.18, 0.19],\n",
        "        [0.22, 0.21, 0.20, 0.19, 0.18, 0.17, 0.18, 0.19, 0.20],\n",
        "        [0.23, 0.22, 0.21, 0.20, 0.19, 0.18, 0.19, 0.20, 0.21],\n",
        "    ],\n",
        "    requires_grad=True,\n",
        ")\n",
        "\n",
        "# Spot price\n",
        "S0 = 100  # Spot price\n",
        "\n",
        "# Black-Scholes option pricing function\n",
        "def option_price(S0, K, T, sigma, r):\n",
        "    d1 = (torch.log(S0 / K) + (r + 0.5 * sigma**2) * T) / (sigma * torch.sqrt(T))\n",
        "    d2 = d1 - sigma * torch.sqrt(T)\n",
        "    N = torch.distributions.Normal(0, 1)\n",
        "    return S0 * N.cdf(d1) - K * torch.exp(-r * T) * N.cdf(d2)\n",
        "\n",
        "# Calculate option prices\n",
        "option_prices = option_price(S0, K.view(1, -1), T.view(-1, 1), implied_vol_surface, r)\n",
        "\n",
        "print(option_prices.sum())\n",
        "\n",
        "# Sensitivity of option price to volatility surface\n",
        "sensitivity_to_volatility_surface = torch.autograd.grad(\n",
        "    outputs=option_prices.sum(),\n",
        "    inputs=implied_vol_surface,\n",
        "    create_graph=True,\n",
        ")[0]\n",
        "\n",
        "# Print the sensitivity matrix\n",
        "print(\"Sensitivity of Option Price to Volatility Surface:\")\n",
        "print(sensitivity_to_volatility_surface)\n"
      ],
      "metadata": {
        "id": "jUJo7T_VZcR1"
      },
      "execution_count": null,
      "outputs": []
    },
    {
      "cell_type": "code",
      "source": [
        "delta = 1e-5  # Small perturbation"
      ],
      "metadata": {
        "id": "Qc2K3ejbpz92"
      },
      "execution_count": null,
      "outputs": []
    },
    {
      "cell_type": "code",
      "source": [
        "# Function to calculate the option price\n",
        "def compute_option_prices(implied_vol_surface):\n",
        "    return option_price(S0, K.view(1, -1), T.view(-1, 1), implied_vol_surface, r)\n",
        "\n",
        "# Central finite difference approximation\n",
        "finite_diff_sensitivity = torch.zeros_like(implied_vol_surface)\n",
        "\n",
        "for i in range(implied_vol_surface.shape[0]):  # Iterate over rows (maturities)\n",
        "    for j in range(implied_vol_surface.shape[1]):  # Iterate over columns (strikes)\n",
        "        # Create perturbed volatility surfaces\n",
        "        vol_plus = implied_vol_surface.clone()\n",
        "        vol_minus = implied_vol_surface.clone()\n",
        "\n",
        "        # Apply perturbations\n",
        "        vol_plus[i, j] += delta\n",
        "        vol_minus[i, j] -= delta\n",
        "\n",
        "        # Compute option prices for perturbed surfaces\n",
        "        C_plus = compute_option_prices(vol_plus)\n",
        "        C_minus = compute_option_prices(vol_minus)\n",
        "\n",
        "        # Compute finite difference\n",
        "        finite_diff_sensitivity[i, j] = (C_plus.sum() - C_minus.sum()) / (2 * delta)"
      ],
      "metadata": {
        "id": "FQmqaga4puCl"
      },
      "execution_count": null,
      "outputs": []
    },
    {
      "cell_type": "code",
      "source": [
        "print(\"Sensitivity of Option Price to Volatility Surface:\")\n",
        "sensitivity_to_volatility_surface"
      ],
      "metadata": {
        "id": "O7yvn7PPu29w"
      },
      "execution_count": null,
      "outputs": []
    },
    {
      "cell_type": "code",
      "source": [],
      "metadata": {
        "id": "R8lqu3S0BIYL"
      },
      "execution_count": null,
      "outputs": []
    },
    {
      "cell_type": "code",
      "source": [],
      "metadata": {
        "id": "sAIPLNAUBIgw"
      },
      "execution_count": null,
      "outputs": []
    },
    {
      "cell_type": "code",
      "source": [
        "import torch\n",
        "import torch.autograd as autograd\n",
        "\n",
        "# Define the Black-Scholes call option price function\n",
        "def black_scholes_call(S, K, T, r, sigma):\n",
        "    d1 = (torch.log(S / K) + (r + 0.5 * sigma ** 2) * T) / (sigma * torch.sqrt(T))\n",
        "    d2 = d1 - sigma * torch.sqrt(T)\n",
        "    call_price = S * torch.distributions.Normal(0, 1).cdf(d1) - K * torch.exp(-r * T) * torch.distributions.Normal(0, 1).cdf(d2)\n",
        "    return call_price\n",
        "\n",
        "# Define the function to calculate sensitivities on the entire volatility surface\n",
        "def calculate_surface_sensitivities(S, K, T, r, vol_surface):\n",
        "    S = torch.tensor(S, dtype=torch.float32, requires_grad=True)\n",
        "    K = torch.tensor(K, dtype=torch.float32, requires_grad=True)\n",
        "    T = torch.tensor(T, dtype=torch.float32, requires_grad=True)\n",
        "    r = torch.tensor(r, dtype=torch.float32, requires_grad=True)\n",
        "    vol_surface = torch.tensor(vol_surface, requires_grad=True)\n",
        "\n",
        "    call_prices = []\n",
        "    sensitivities = []\n",
        "\n",
        "    for i in range(vol_surface.shape[0]):\n",
        "        for j in range(vol_surface.shape[1]):\n",
        "            sigma = vol_surface[i, j]\n",
        "\n",
        "            # Calculate call price with create_graph=True for higher-order derivatives\n",
        "            call_price = black_scholes_call(S, K, T, r, sigma)\n",
        "            call_prices.append(call_price)\n",
        "\n",
        "            # Calculate gradients, enabling graph creation for gamma calculation\n",
        "            gradients = autograd.grad(call_price, [S, vol_surface, T, r], create_graph=True)\n",
        "\n",
        "            # Extract gradients\n",
        "            delta = gradients[0].item()\n",
        "            vega = gradients[1][i, j].item()\n",
        "            theta = gradients[2].item()\n",
        "            rho = gradients[3].item()\n",
        "\n",
        "            # Calculate gamma\n",
        "            gamma = autograd.grad(gradients[0], S, create_graph=True)[0].item()\n",
        "\n",
        "            sens = {\n",
        "                'delta': delta,\n",
        "                'vega': vega,\n",
        "                'theta': theta,\n",
        "                'rho': rho,\n",
        "                'gamma': gamma\n",
        "            }\n",
        "            sensitivities.append(sens)\n",
        "\n",
        "            # Zero gradients for next iteration\n",
        "           # Zero gradients for next iteration, only if they are not None\n",
        "            # Check if S.grad, K.grad, T.grad and r.grad are not None before calling zero_()\n",
        "            if S.grad is not None:\n",
        "                S.grad.zero_()\n",
        "            if K.grad is not None:\n",
        "                K.grad.zero_()\n",
        "            if T.grad is not None:\n",
        "                T.grad.zero_()\n",
        "            if r.grad is not None:\n",
        "                r.grad.zero_()\n",
        "            if vol_surface.grad is not None:\n",
        "                vol_surface.grad.zero_()\n",
        "\n",
        "    return call_prices, sensitivities\n",
        "\n",
        "# Example usage\n",
        "if __name__ == \"__main__\":\n",
        "    S = 100  # Spot price\n",
        "    K = 100  # Strike price\n",
        "    T = 1    # Time to maturity\n",
        "    r = 0.05 # Risk-free rate\n",
        "    vol_surface = [[0.2, 0.25], [0.3, 0.35]]  # Example volatility surface\n",
        "\n",
        "    prices, sensitivities = calculate_surface_sensitivities(S, K, T, r, vol_surface)\n",
        "    print(f\"Call Prices: {prices}\")\n",
        "    print(f\"Sensitivities: {sensitivities}\")\n"
      ],
      "metadata": {
        "id": "YEfFb8LCBIjX"
      },
      "execution_count": null,
      "outputs": []
    },
    {
      "cell_type": "code",
      "source": [
        "print(\"Call Prices:\")\n",
        "for price in prices:\n",
        "    print(f\"  {price:.4f}\")  # Format prices to 4 decimal places\n",
        "\n",
        "print(\"\\nSensitivities:\")\n",
        "for i, sens in enumerate(sensitivities):\n",
        "    print(f\"  Point {i + 1}:\")\n",
        "    for key, value in sens.items():\n",
        "        print(f\"    {key}: {value:.4f}\") # Format sensitivities to 4 decimal places"
      ],
      "metadata": {
        "id": "fJkul8V5BJKq"
      },
      "execution_count": null,
      "outputs": []
    },
    {
      "cell_type": "code",
      "source": [],
      "metadata": {
        "id": "dhwl_0-VEHkw"
      },
      "execution_count": null,
      "outputs": []
    }
  ]
}