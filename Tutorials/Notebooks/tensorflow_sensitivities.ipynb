{
  "nbformat": 4,
  "nbformat_minor": 0,
  "metadata": {
    "colab": {
      "private_outputs": true,
      "provenance": [],
      "authorship_tag": "ABX9TyP3Vao8z5q8w/gQA4HddMbB",
      "include_colab_link": true
    },
    "kernelspec": {
      "name": "python3",
      "display_name": "Python 3"
    }
  },
  "cells": [
    {
      "cell_type": "markdown",
      "metadata": {
        "id": "view-in-github",
        "colab_type": "text"
      },
      "source": [
        "<a href=\"https://colab.research.google.com/github/aderdouri/EiCNAM/blob/master/Tutorials/Notebooks/tensorflow_sensitivities.ipynb\" target=\"_parent\"><img src=\"https://colab.research.google.com/assets/colab-badge.svg\" alt=\"Open In Colab\"/></a>"
      ]
    },
    {
      "cell_type": "markdown",
      "source": [],
      "metadata": {
        "id": "9NRg4aD8lWKp"
      }
    },
    {
      "cell_type": "markdown",
      "source": [
        "# Sensitivity of Option Price to Implied Volatility Surface\n"
      ],
      "metadata": {
        "id": "QguTMHmGlXj8"
      }
    },
    {
      "cell_type": "markdown",
      "source": [
        "The sensitivity of the option price $ C(K, T) $ to the implied volatility surface c \\sigma_{\\text{implied}}(K, T) $ is computed as:\n",
        "\n",
        "$\n",
        "\\frac{\\partial C(K, T)}{\\partial \\sigma_{\\text{implied}}(K, T)}.\n",
        "$\n",
        "\n",
        "This measures how a small change in the implied volatility at a specific strike $ K $ and maturity $ T $ affects the option price.\n"
      ],
      "metadata": {
        "id": "2wsRfjRvlbo7"
      }
    },
    {
      "cell_type": "markdown",
      "source": [
        "### Black-Scholes Option Pricing Formula\n",
        "\n",
        "The Black-Scholes option pricing formula for a European call option is given by:\n",
        "\n",
        "$\n",
        "C(K, T) = S_0 \\Phi(d_1) - K e^{-rT} \\Phi(d_2),\n",
        "$\n",
        "\n",
        "where:\n",
        "\n",
        "$\n",
        "d_1 = \\frac{\\ln\\left(\\frac{S_0}{K}\\right) + \\left(r + \\frac{1}{2} \\sigma^2\\right) T}{\\sigma \\sqrt{T}}, \\quad\n",
        "d_2 = d_1 - \\sigma \\sqrt{T}.\n",
        "$\n",
        "\n",
        "**Parameters:**\n",
        "- $ S_0 $: Spot price of the underlying asset,\n",
        "- $ K $: Strike price of the option,\n",
        "- $ T $: Time to maturity,\n",
        "- $ r $: Risk-free rate,\n",
        "- $ \\sigma $: Volatility,\n",
        "- $ \\Phi(x) $: Cumulative distribution function (CDF) of the standard normal distribution.\n"
      ],
      "metadata": {
        "id": "LNi85u0mluyQ"
      }
    },
    {
      "cell_type": "markdown",
      "source": [
        "### Volatility Surface Representation\n",
        "\n",
        "The implied volatility surface is represented as a grid of strike prices $ K $ and maturities $ T $:\n",
        "\n",
        "$\n",
        "\\sigma_{\\text{implied}}(K, T) =\n",
        "\\begin{bmatrix}\n",
        "\\sigma_{1,1} & \\sigma_{1,2} & \\cdots & \\sigma_{1,n} \\\\\n",
        "\\sigma_{2,1} & \\sigma_{2,2} & \\cdots & \\sigma_{2,n} \\\\\n",
        "\\vdots       & \\vdots       & \\ddots & \\vdots       \\\\\n",
        "\\sigma_{m,1} & \\sigma_{m,2} & \\cdots & \\sigma_{m,n} \\\\\n",
        "\\end{bmatrix}.\n",
        "$\n"
      ],
      "metadata": {
        "id": "MF6ebLxbmAJy"
      }
    },
    {
      "cell_type": "markdown",
      "source": [
        "### Sensitivity Calculation\n",
        "\n",
        "The sensitivity of the option price to the implied volatility surface is calculated by summing the option prices over the grid and taking the gradient with respect to the volatility surface:\n",
        "\n",
        "$\n",
        "\\frac{\\partial C}{\\partial \\sigma_{\\text{implied}}} =\n",
        "\\begin{bmatrix}\n",
        "\\frac{\\partial C_{1,1}}{\\partial \\sigma_{1,1}} & \\frac{\\partial C_{1,2}}{\\partial \\sigma_{1,2}} & \\cdots & \\frac{\\partial C_{1,n}}{\\partial \\sigma_{1,n}} \\\\\n",
        "\\frac{\\partial C_{2,1}}{\\partial \\sigma_{2,1}} & \\frac{\\partial C_{2,2}}{\\partial \\sigma_{2,2}} & \\cdots & \\frac{\\partial C_{2,n}}{\\partial \\sigma_{2,n}} \\\\\n",
        "\\vdots                                        & \\vdots                                        & \\ddots & \\vdots                                        \\\\\n",
        "\\frac{\\partial C_{m,1}}{\\partial \\sigma_{m,1}} & \\frac{\\partial C_{m,2}}{\\partial \\sigma_{m,2}} & \\cdots & \\frac{\\partial C_{m,n}}{\\partial \\sigma_{m,n}} \\\\\n",
        "\\end{bmatrix}.\n",
        "$"
      ],
      "metadata": {
        "id": "xIVeCkuKmIWY"
      }
    },
    {
      "cell_type": "markdown",
      "source": [
        "\n",
        "#### **6. Markdown Cell: Output Interpretation**\n",
        "### Output Interpretation\n",
        "\n",
        "The output of the sensitivity calculation is a matrix of the same size as the implied volatility surface. Each entry represents:\n",
        "\n",
        "$\n",
        "\\text{sensitivity}_{ij} = \\frac{\\partial C(K_i, T_j)}{\\partial \\sigma_{\\text{implied}}(K_i, T_j)}.\n",
        "$\n",
        "\n",
        "This matrix quantifies the effect of changes in implied volatility on option prices across the entire surface.\n"
      ],
      "metadata": {
        "id": "Yanl97NjmRT_"
      }
    },
    {
      "cell_type": "markdown",
      "source": [
        "### Applications\n",
        "\n",
        "The sensitivity of option prices to the volatility surface is useful for:\n",
        "\n",
        "- Quantifying the impact of changes in implied volatility on option prices.\n",
        "- Developing risk management and hedging strategies.\n",
        "- Calibrating local volatility models for more accurate pricing.\n"
      ],
      "metadata": {
        "id": "Ouqaipp2mctX"
      }
    },
    {
      "cell_type": "code",
      "source": [
        "import tensorflow as tf\n",
        "\n",
        "# Parameters\n",
        "r = 0.03\n",
        "T = tf.constant([0.1, 0.5, 1.0, 2.0], dtype=tf.float32)\n",
        "K = tf.constant([50, 60, 70, 80, 90, 100, 110, 120, 130], dtype=tf.float32)\n",
        "implied_vol_surface = tf.Variable(\n",
        "    [\n",
        "        [0.20, 0.19, 0.18, 0.17, 0.16, 0.15, 0.16, 0.17, 0.18],\n",
        "        [0.21, 0.20, 0.19, 0.18, 0.17, 0.16, 0.17, 0.18, 0.19],\n",
        "        [0.22, 0.21, 0.20, 0.19, 0.18, 0.17, 0.18, 0.19, 0.20],\n",
        "        [0.23, 0.22, 0.21, 0.20, 0.19, 0.18, 0.19, 0.20, 0.21],\n",
        "    ],\n",
        "    dtype=tf.float32,\n",
        ")\n",
        "S0 = tf.constant(100.0, dtype=tf.float32)\n",
        "\n",
        "# Option price function\n",
        "def option_price(S0, K, T, sigma, r):\n",
        "    d1 = (tf.math.log(S0 / K) + (r + 0.5 * sigma**2) * T) / (sigma * tf.sqrt(T))\n",
        "    d2 = d1 - sigma * tf.sqrt(T)\n",
        "    N = tf.compat.v1.distributions.Normal(0.0, 1.0)\n",
        "    return S0 * N.cdf(d1) - K * tf.exp(-r * T) * N.cdf(d2)\n",
        "\n",
        "@tf.function\n",
        "def compute_option_prices(vol_surface):\n",
        "    T_expanded = tf.expand_dims(T, axis=1)\n",
        "    K_expanded = tf.expand_dims(K, axis=0)\n",
        "    return option_price(S0, K_expanded, T_expanded, vol_surface, r)"
      ],
      "metadata": {
        "id": "j4sqKt8KqFGa"
      },
      "execution_count": null,
      "outputs": []
    },
    {
      "cell_type": "code",
      "source": [
        "# Autograd sensitivity\n",
        "with tf.GradientTape() as tape:\n",
        "    tape.watch(implied_vol_surface)\n",
        "    option_prices = compute_option_prices(implied_vol_surface)\n",
        "autograd_sensitivity = tape.gradient(option_prices, implied_vol_surface)\n",
        "\n",
        "# Finite difference method\n",
        "delta = 1e-5\n",
        "finite_diff_sensitivity = tf.zeros_like(implied_vol_surface)\n",
        "for i in range(implied_vol_surface.shape[0]):\n",
        "    for j in range(implied_vol_surface.shape[1]):\n",
        "        vol_plus = tf.Variable(implied_vol_surface) # Use implied_vol_surface directly\n",
        "        vol_minus = tf.Variable(implied_vol_surface) # Use implied_vol_surface directly\n",
        "        vol_plus[i, j].assign(vol_plus[i, j] + delta) # Use assign and + operator\n",
        "        vol_minus[i, j].assign(vol_minus[i, j] - delta) # Use assign and - operator\n",
        "        C_plus = compute_option_prices(vol_plus)\n",
        "        C_minus = compute_option_prices(vol_minus)\n",
        "        sensitivity = (tf.reduce_sum(C_plus) - tf.reduce_sum(C_minus)) / (2 * delta)\n",
        "        finite_diff_sensitivity = tf.tensor_scatter_nd_update(\n",
        "            finite_diff_sensitivity, [[i, j]], [sensitivity]\n",
        "        )"
      ],
      "metadata": {
        "id": "rVzjoNpUuTQw"
      },
      "execution_count": null,
      "outputs": []
    },
    {
      "cell_type": "code",
      "source": [
        "# prompt: print without scientific notation\n",
        "import numpy as np\n",
        "print(\"Autograd Sensitivity:\\n\", np.array_str(autograd_sensitivity.numpy(), precision=4, suppress_small=True))\n",
        "print(\"\\nFinite Difference Sensitivity:\\n\", np.array_str(finite_diff_sensitivity.numpy(), precision=4, suppress_small=True))"
      ],
      "metadata": {
        "id": "5FLcCbhBuyk_"
      },
      "execution_count": null,
      "outputs": []
    },
    {
      "cell_type": "code",
      "source": [
        "# Compare results\n",
        "relative_error = tf.norm(finite_diff_sensitivity - autograd_sensitivity) / tf.norm(autograd_sensitivity)\n",
        "print(f\"Relative Error: {relative_error.numpy()}\")"
      ],
      "metadata": {
        "id": "pk16AJQEvLOm"
      },
      "execution_count": null,
      "outputs": []
    },
    {
      "cell_type": "code",
      "source": [],
      "metadata": {
        "id": "kwMfAYhkvSO2"
      },
      "execution_count": null,
      "outputs": []
    }
  ]
}