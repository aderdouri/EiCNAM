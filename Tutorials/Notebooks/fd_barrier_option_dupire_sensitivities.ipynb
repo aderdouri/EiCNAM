{
  "cells": [
    {
      "cell_type": "markdown",
      "metadata": {
        "id": "view-in-github",
        "colab_type": "text"
      },
      "source": [
        "<a href=\"https://colab.research.google.com/github/aderdouri/EiCNAM/blob/master/Tutorials/Notebooks/fd_barrier_option_dupire_sensitivities.ipynb\" target=\"_parent\"><img src=\"https://colab.research.google.com/assets/colab-badge.svg\" alt=\"Open In Colab\"/></a>"
      ]
    },
    {
      "cell_type": "markdown",
      "metadata": {
        "id": "CF5alDWZ4_ca"
      },
      "source": [
        "# Mathematical Description of the Financial Model\n",
        "\n",
        "## Barrier Options under the Black-Scholes Model\n",
        "\n",
        "A barrier option is a type of financial derivative whose payoff depends on whether the underlying asset's price reaches a specific barrier level during the option's life.\n"
      ]
    },
    {
      "cell_type": "markdown",
      "metadata": {
        "id": "LcCADe_i5FLR"
      },
      "source": [
        "### Black-Scholes Formula for Barrier Options\n",
        "\n",
        "The value of a barrier option can be derived by adjusting the standard Black-Scholes model with additional terms to account for the barrier conditions. The formulas for *up-and-out call* and *down-and-out put* options are given by:\n",
        "\n",
        "$\n",
        "C_{\\text{up-out}} =\n",
        "\\begin{cases}\n",
        "    0, & S \\geq H \\\\\\\\\n",
        "    S \\Phi(d_1) - K e^{-rT} \\Phi(d_2) - \\left[ S \\left(\\frac{H}{S}\\right)^{2\\lambda} \\Phi(x_1) - K e^{-rT} \\left(\\frac{H}{S}\\right)^{2\\lambda - 2} \\Phi(x_2) \\right], & S < H\n",
        "\\end{cases},\n",
        "$\n",
        "\n",
        "$\n",
        "P_{\\text{down-out}} =\n",
        "\\begin{cases}\n",
        "    0, & S \\leq H \\\\\\\\\n",
        "    K e^{-rT} \\Phi(-d_2) - S \\Phi(-d_1) - \\left[ K e^{-rT} \\left(\\frac{H}{S}\\right)^{2\\lambda - 2} \\Phi(-x_2) - S \\left(\\frac{H}{S}\\right)^{2\\lambda} \\Phi(-x_1) \\right], & S > H\n",
        "\\end{cases},\n",
        "$\n"
      ]
    },
    {
      "cell_type": "markdown",
      "metadata": {
        "id": "jo6U0K_S5RQT"
      },
      "source": [
        "### Parameter Definitions\n",
        "\n",
        "$\n",
        "d_1 = \\frac{\\ln(S / K) + (r + 0.5 \\sigma^2)T}{\\sigma \\sqrt{T}}, \\quad\n",
        "d_2 = d_1 - \\sigma \\sqrt{T},\n",
        "$\n",
        "\n",
        "$\n",
        "x_1 = \\frac{\\ln(S / H)}{\\sigma \\sqrt{T}} + \\lambda \\sigma \\sqrt{T}, \\quad\n",
        "x_2 = x_1 - \\sigma \\sqrt{T},\n",
        "$\n",
        "\n",
        "$\n",
        "\\lambda = \\frac{r + 0.5 \\sigma^2}{\\sigma^2}.\n",
        "$\n",
        "\n",
        "Here, $ S $ is the spot price, $ K $ is the strike price, $ H $ is the barrier level, $ r $ is the risk-free interest rate, $ T $ is the time to maturity, and $ \\sigma $ is the local volatility. $ \\Phi(\\cdot) $ is the cumulative distribution function of the standard normal distribution.\n"
      ]
    },
    {
      "cell_type": "markdown",
      "metadata": {
        "id": "1NDBZvfk5nJV"
      },
      "source": [
        "## Sensitivity Analysis using Automatic Differentiation\n",
        "\n",
        "The sensitivity of the barrier option price to the local volatility surface $ \\sigma_{\\text{loc}}(K, T) $ is computed using automatic differentiation. The sensitivity is defined as:\n",
        "\n",
        "$\n",
        "\\frac{\\partial V}{\\partial \\sigma_{\\text{loc}}(K, T)},\n",
        "$\n",
        "\n",
        "where $ V $ is the price of the barrier option. By leveraging automatic differentiation, this derivative is computed directly in the computational graph without requiring finite difference approximations.\n"
      ]
    },
    {
      "cell_type": "code",
      "execution_count": null,
      "metadata": {
        "id": "QXGiV3TT10eT"
      },
      "outputs": [],
      "source": [
        "import torch\n",
        "import numpy as np\n",
        "from torch.distributions.normal import Normal\n",
        "\n",
        "torch.manual_seed(42)\n",
        "np.random.seed(42)\n",
        "\n",
        "torch.set_printoptions(sci_mode=False)"
      ]
    },
    {
      "cell_type": "markdown",
      "metadata": {
        "id": "iIr-JlIhINoU"
      },
      "source": [
        "## MONTE CARLO SIMULATION"
      ]
    },
    {
      "cell_type": "code",
      "source": [
        "def interpolate_volatility(S, t, strikes, times, sigma_surface):\n",
        "    \"\"\"\n",
        "    Interpolate local volatility from the surface using bilinear interpolation.\n",
        "\n",
        "    Args:\n",
        "    - S: Spot prices (1D tensor).\n",
        "    - t: Current time (scalar).\n",
        "    - strikes: Tensor of strike levels.\n",
        "    - times: Tensor of time levels.\n",
        "    - sigma_surface: Local volatility surface (tensor, shape [num_strikes, num_times]).\n",
        "\n",
        "    Returns:\n",
        "    - Interpolated volatility values (1D tensor).\n",
        "    \"\"\"\n",
        "    # Ensure inputs are tensors\n",
        "    S = S.clone().detach()  # Ensure no in-place modifications\n",
        "    t = t.clone().detach()\n",
        "\n",
        "    # Find indices for strikes and times\n",
        "    strike_idx = torch.searchsorted(strikes, S).clamp(1, len(strikes) - 1)\n",
        "    time_idx = torch.searchsorted(times, t).clamp(1, len(times) - 1)\n",
        "\n",
        "    # Get bounding indices\n",
        "    strike_idx0 = strike_idx - 1\n",
        "    strike_idx1 = strike_idx\n",
        "    time_idx0 = time_idx - 1\n",
        "    time_idx1 = time_idx\n",
        "\n",
        "    # Get bounding values\n",
        "    S0, S1 = strikes[strike_idx0], strikes[strike_idx1]\n",
        "    t0, t1 = times[time_idx0], times[time_idx1]\n",
        "\n",
        "    # Get corresponding volatilities\n",
        "    vol00 = sigma_surface[strike_idx0, time_idx0]\n",
        "    vol01 = sigma_surface[strike_idx0, time_idx1]\n",
        "    vol10 = sigma_surface[strike_idx1, time_idx0]\n",
        "    vol11 = sigma_surface[strike_idx1, time_idx1]\n",
        "\n",
        "    # Bilinear interpolation\n",
        "    vol_t0 = vol00 + (vol10 - vol00) * (S - S0) / (S1 - S0)\n",
        "    vol_t1 = vol01 + (vol11 - vol01) * (S - S0) / (S1 - S0)\n",
        "    vol = vol_t0 + (vol_t1 - vol_t0) * (t - t0) / (t1 - t0)\n",
        "\n",
        "    return vol"
      ],
      "metadata": {
        "id": "YJ_25cCaCWK5"
      },
      "execution_count": null,
      "outputs": []
    },
    {
      "cell_type": "code",
      "execution_count": null,
      "metadata": {
        "id": "AYGjpe9vFOjv"
      },
      "outputs": [],
      "source": [
        "# Monte Carlo simulation for barrier option pricing with sensitivities\n",
        "def simulate_paths_mc(S0, K, r, sigma_surface, T, H, N_t, N_paths, strikes, times, epsilon=1e-6):\n",
        "    #dt = torch.tensor(T / N_t, dtype=torch.float32)  # Convert to a PyTorch tensor\n",
        "\n",
        "    dt = (T / N_t).clone().detach().float()  # Ensure it's a tensor without gradient\n",
        "\n",
        "    time_grid = torch.linspace(0, T, steps=N_t + 1)\n",
        "    paths = torch.zeros((N_paths, N_t + 1), dtype=torch.float32, requires_grad=False)\n",
        "    paths[:, 0] = S0\n",
        "\n",
        "    alive = torch.ones(N_paths, dtype=torch.float32)  # Track alive paths\n",
        "\n",
        "    for t_idx in range(1, N_t + 1):\n",
        "        t = time_grid[t_idx]\n",
        "        Z = torch.randn(N_paths)  # Standard normal random variables\n",
        "        S_prev = paths[:, t_idx - 1].clone()  # Clone to avoid in-place modifications\n",
        "\n",
        "        # Interpolate local volatility for current spot and time\n",
        "        sigma_t = interpolate_volatility(S_prev, t, strikes, times, sigma_surface)\n",
        "\n",
        "        # Simulate next step of the path\n",
        "        dS = r * S_prev * dt + sigma_t * S_prev * torch.sqrt(dt) * Z\n",
        "        paths[:, t_idx] = S_prev + dS\n",
        "\n",
        "        # Monitor barrier\n",
        "        breach_high = paths[:, t_idx] > (H + epsilon)\n",
        "        breach_low = paths[:, t_idx] < (H - epsilon)\n",
        "        interpolate_zone = ~(breach_high | breach_low)\n",
        "\n",
        "        # Update alive status\n",
        "        alive[breach_high] = 0.0  # Definitely dead\n",
        "        alive[interpolate_zone] *= 1.0 - (paths[:, t_idx][interpolate_zone] - (H - epsilon)) / (2 * epsilon)\n",
        "\n",
        "    breached = alive < 1.0  # Paths that breached the barrier\n",
        "    return paths, breached"
      ]
    },
    {
      "cell_type": "markdown",
      "metadata": {
        "id": "24LIXZu12lnt"
      },
      "source": [
        "## FINITE DIFFERENCES MONTE CARLO"
      ]
    },
    {
      "cell_type": "code",
      "execution_count": null,
      "metadata": {
        "id": "UsH8_HNc4zTg"
      },
      "outputs": [],
      "source": [
        "def finite_difference_sensitivities(S0, K, r, sigma_surface, T, H, N_t, N_paths, strikes, times, epsilon=1e-4, chock=1e-4, option_type=\"call\"):\n",
        "    \"\"\"\n",
        "    Compute sensitivities of the Monte Carlo barrier option price with respect to the local volatility surface\n",
        "    using finite difference approximation.\n",
        "\n",
        "    Args:\n",
        "    - S0: Initial spot price (float or tensor).\n",
        "    - r: Risk-free rate (float).\n",
        "    - sigma_surface: Local volatility surface (torch tensor of shape [num_strikes, num_times]).\n",
        "    - T: Time to maturity (float).\n",
        "    - H: Barrier level (float).\n",
        "    - N_t: Number of time steps.\n",
        "    - N_paths: Number of Monte Carlo paths.\n",
        "    - strikes: Strike levels (torch tensor).\n",
        "    - times: Time levels (torch tensor).\n",
        "    - chock: Small perturbation for finite difference.\n",
        "    - option_type: \"call\" or \"put\".\n",
        "\n",
        "    Returns:\n",
        "    - price: Base Monte Carlo price.\n",
        "    - sensitivities: Sensitivities with respect to the local volatility surface.\n",
        "    \"\"\"\n",
        "\n",
        "    # Base price\n",
        "    base_paths, base_breached = simulate_paths_mc(S0, K, r, sigma_surface, T, H, N_t, N_paths, strikes, times, epsilon=epsilon)\n",
        "\n",
        "    terminal_prices = base_paths[:, -1]\n",
        "    strike_price = K\n",
        "\n",
        "    if option_type == \"call\":\n",
        "        base_payoffs = torch.where(~base_breached, torch.maximum(terminal_prices - strike_price, torch.tensor(0.0)), torch.tensor(0.0))\n",
        "    elif option_type == \"put\":\n",
        "        base_payoffs = torch.where(~base_breached, torch.maximum(strike_price - terminal_prices, torch.tensor(0.0)), torch.tensor(0.0))\n",
        "    else:\n",
        "        raise ValueError(\"Unsupported option type\")\n",
        "\n",
        "    base_price = torch.exp(-r * T) * base_payoffs.mean()\n",
        "\n",
        "    # Initialize sensitivities\n",
        "    sensitivities = torch.zeros_like(sigma_surface)\n",
        "\n",
        "    # Compute finite difference sensitivities\n",
        "    for i in range(sigma_surface.shape[0]):  # Loop over strikes\n",
        "        #strike_price = strikes[i]\n",
        "        for j in range(sigma_surface.shape[1]):  # Loop over times\n",
        "            # Perturb the volatility surface\n",
        "            sigma_perturbed = sigma_surface.clone()\n",
        "            sigma_perturbed[i, j] += chock\n",
        "\n",
        "            # Perturbed price\n",
        "            perturbed_paths, perturbed_breached = simulate_paths_mc(S0, K, r, sigma_perturbed, T, H, N_t, N_paths, strikes, times, epsilon=epsilon)\n",
        "            terminal_prices_perturbed = perturbed_paths[:, -1]\n",
        "\n",
        "            if option_type == \"call\":\n",
        "                perturbed_payoffs = torch.where(~perturbed_breached,\n",
        "                                                torch.maximum(terminal_prices_perturbed - strike_price, torch.tensor(0.0)), torch.tensor(0.0))\n",
        "            elif option_type == \"put\":\n",
        "                perturbed_payoffs = torch.where(~perturbed_breached,\n",
        "                                                torch.maximum(strike_price - terminal_prices_perturbed, torch.tensor(0.0)), torch.tensor(0.0))\n",
        "\n",
        "            perturbed_price = torch.exp(-r * T) * perturbed_payoffs.mean()\n",
        "\n",
        "            # Sensitivity calculation\n",
        "            sensitivities[i, j] = (perturbed_price - base_price) / chock\n",
        "\n",
        "    return base_price.item(), sensitivities"
      ]
    },
    {
      "cell_type": "code",
      "source": [
        "# Example parameters\n",
        "S0 = torch.tensor(100.0)  # Spot price\n",
        "K = torch.tensor(120.0)  # Strike price\n",
        "H = torch.tensor(150.0)  # Barrier level\n",
        "T = torch.tensor(2.0)  # Time to maturity (years)\n",
        "r = torch.tensor(0.0)  # Risk-free rate\n",
        "N_t = torch.tensor(156)  # Number of time steps (weekly)\n",
        "N_paths = 100000  # Number of Monte Carlo paths (reduced for testing)\n",
        "epsilon=0.05*100.0\n",
        "\n",
        "# Local volatility surface\n",
        "sigma_surface = torch.ones((10, 5)) * 0.2  # 10 strikes, 5 maturities\n",
        "\n",
        "# Strike levels and time levels corresponding to the sigma_surface\n",
        "strikes = torch.linspace(90, 180, 10)\n",
        "times = torch.linspace(0.1, 2.0, 5)  # Time to maturities\n",
        "\n",
        "# Calculate sensitivities\n",
        "price, sensitivities = finite_difference_sensitivities(S0, K, r, sigma_surface, T, H, N_t, N_paths, strikes, times, epsilon=epsilon)\n",
        "\n",
        "print(f\"Monte Carlo Barrier Option Price: {price:.4f}\")\n",
        "print(\"Finite Difference Sensitivities:\")\n",
        "print(sensitivities)"
      ],
      "metadata": {
        "id": "nE_5v0A4DJeZ"
      },
      "execution_count": null,
      "outputs": []
    },
    {
      "cell_type": "code",
      "source": [],
      "metadata": {
        "id": "pNGBWfXRRZVn"
      },
      "execution_count": null,
      "outputs": []
    }
  ],
  "metadata": {
    "colab": {
      "private_outputs": true,
      "provenance": [],
      "authorship_tag": "ABX9TyPUmvY+oyrQNcG92/sGn0Rh",
      "include_colab_link": true
    },
    "kernelspec": {
      "display_name": "Python 3",
      "name": "python3"
    }
  },
  "nbformat": 4,
  "nbformat_minor": 0
}