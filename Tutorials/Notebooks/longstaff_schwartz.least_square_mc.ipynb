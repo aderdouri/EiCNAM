{
  "nbformat": 4,
  "nbformat_minor": 0,
  "metadata": {
    "colab": {
      "provenance": [],
      "authorship_tag": "ABX9TyNS7lh6jbQui8dqHurzOZ86",
      "include_colab_link": true
    },
    "kernelspec": {
      "name": "python3",
      "display_name": "Python 3"
    },
    "language_info": {
      "name": "python"
    }
  },
  "cells": [
    {
      "cell_type": "markdown",
      "metadata": {
        "id": "view-in-github",
        "colab_type": "text"
      },
      "source": [
        "<a href=\"https://colab.research.google.com/github/aderdouri/EiCNAM/blob/master/Tutorials/Notebooks/longstaff_schwartz.least_square_mc.ipynb\" target=\"_parent\"><img src=\"https://colab.research.google.com/assets/colab-badge.svg\" alt=\"Open In Colab\"/></a>"
      ]
    },
    {
      "cell_type": "code",
      "execution_count": 4,
      "metadata": {
        "colab": {
          "base_uri": "https://localhost:8080/"
        },
        "id": "1aEodEw_o3pm",
        "outputId": "054cc03a-bab7-4224-daa5-a4587f144b10"
      },
      "outputs": [
        {
          "output_type": "stream",
          "name": "stdout",
          "text": [
            "Estimated American option price: 0.4120134543840609\n"
          ]
        }
      ],
      "source": [
        "import numpy as np\n",
        "import pandas as pd\n",
        "\n",
        "def longstaff_schwartz(paths, strike, discount_rate, exercise_dates):\n",
        "    \"\"\"\n",
        "    Longstaff-Schwartz algorithm for American option pricing.\n",
        "\n",
        "    Args:\n",
        "        paths: A NumPy array of shape (number_of_paths, number_of_time_steps)\n",
        "        representing the simulated asset price paths.\n",
        "        strike: The strike price for the option. # Changed from strikes to strike\n",
        "        discount_rate: The risk-free discount rate.\n",
        "        exercise_dates: A list or array of exercise dates (timesteps).\n",
        "\n",
        "    Returns:\n",
        "        The estimated price of the American option.\n",
        "    \"\"\"\n",
        "\n",
        "    n_paths = paths.shape[0]\n",
        "    n_steps = paths.shape[1]\n",
        "\n",
        "    # Initialize the continuation values and cashflows\n",
        "    continuation_values = np.zeros(n_paths)\n",
        "    cashflows = np.zeros(n_paths)\n",
        "\n",
        "    # Iterate backward through the time steps\n",
        "    for t in reversed(range(0, n_steps - 1)): # Iterate up to second to last timestep\n",
        "        # Determine intrinsic value of option\n",
        "        intrinsic_value = np.maximum(0, paths[:, t + 1] - strike) # Changed paths[t + 1] to paths[:, t + 1] and strikes to strike\n",
        "\n",
        "        # Fit a regression model to estimate continuation value\n",
        "        if np.any(intrinsic_value): # Only perform regression if there are positive intrinsic values\n",
        "          regression_data = pd.DataFrame({'Price': paths[:, t], 'IntrinsicValue': intrinsic_value}) # Changed paths[t] to paths[:, t]\n",
        "          regression = np.polyfit(regression_data['Price'], regression_data['IntrinsicValue'], 3)\n",
        "          continuation_values = np.polyval(regression, paths[:, t]) # Changed paths[t] to paths[:, t]\n",
        "        else:\n",
        "            continuation_values = np.zeros(n_paths) # if intrinsic is always zero\n",
        "\n",
        "        # Compare intrinsic value to continuation value, updating cash flows\n",
        "        exercise = intrinsic_value > continuation_values\n",
        "        cashflows[exercise] = intrinsic_value[exercise]\n",
        "\n",
        "        # Discount cash flows to previous time step\n",
        "        continuation_values = np.where(exercise, 0, continuation_values) # update value of continuation values\n",
        "\n",
        "        # discount all values at each timestep\n",
        "        continuation_values = continuation_values / (1+discount_rate)\n",
        "\n",
        "\n",
        "        # Update cash flows\n",
        "        cashflows = np.where(exercise, intrinsic_value, cashflows)\n",
        "\n",
        "    return np.mean(cashflows)\n",
        "\n",
        "# Example Usage (replace with your data)\n",
        "np.random.seed(0)\n",
        "n_paths = 10000\n",
        "n_steps = 100\n",
        "paths = np.random.randn(n_paths, n_steps).cumsum(axis=1)\n",
        "strike = 1.0  # Example strike price # Changed strikes to strike\n",
        "\n",
        "discount_rate = 0.05\n",
        "exercise_dates = list(range(0, n_steps))\n",
        "\n",
        "option_price = longstaff_schwartz(paths, strike, discount_rate, exercise_dates) # Changed strikes to strike\n",
        "print(f\"Estimated American option price: {option_price}\")"
      ]
    },
    {
      "cell_type": "code",
      "source": [
        "# Let the underlying model be a Black-Scholes process\n",
        "# dS_t / S_t = rate dt + sigma**2 dW_t, S_0 = 1.0\n",
        "# with `rate = 0.1`, and volatility `sigma = 1.0`.\n",
        "# Define drift and volatility functions for log(S_t)\n",
        "rate = 0.1\n",
        "def drift_fn(_, x):\n",
        "  return rate - tf.ones_like(x) / 2.\n",
        "def vol_fn(_, x):\n",
        "  return tf.expand_dims(tf.ones_like(x), axis=-1)\n",
        "# Use Euler scheme to propagate 100000 paths for 1 year into the future\n",
        "times = np.linspace(0., 1, num=50)\n",
        "num_samples = 100000\n",
        "log_paths = tf.function(tff.models.euler_sampling.sample)(\n",
        "        dim=1,\n",
        "        drift_fn=drift_fn, volatility_fn=vol_fn,\n",
        "        random_type=tff.math.random.RandomType.PSEUDO_ANTITHETIC,\n",
        "        times=times, num_samples=num_samples, seed=42, time_step=0.01)\n",
        "# Compute exponent to get samples of `S_t`\n",
        "paths = tf.math.exp(log_paths)\n",
        "# American put option price for strike 1.1 and expiry 1 (assuming actual day\n",
        "# count convention and no settlement adjustment)\n",
        "strike = [1.1]\n",
        "exercise_times = tf.range(times.shape[-1])\n",
        "discount_factors = tf.exp(-rate * times)\n",
        "payoff_fn = make_basket_put_payoff(strike)\n",
        "basis_fn = make_polynomial_basis(10)\n",
        "least_square_mc(paths, exercise_times, payoff_fn, basis_fn,\n",
        "                discount_factors=discount_factors)\n",
        "# Expected value: [0.397]\n",
        "# European put option price\n",
        "tff.black_scholes.option_price(volatilities=[1], strikes=strikes,\n",
        "                               expiries=[1], spots=[1.],\n",
        "                               discount_factors=discount_factors[-1],\n",
        "                               is_call_options=False,\n",
        "                               dtype=tf.float64)\n",
        "# Expected value: [0.379]"
      ],
      "metadata": {
        "colab": {
          "base_uri": "https://localhost:8080/",
          "height": 217
        },
        "id": "MP-XrD-hpDVU",
        "outputId": "9e8ec723-56bd-4d32-c4c5-a2b22d824276"
      },
      "execution_count": 5,
      "outputs": [
        {
          "output_type": "error",
          "ename": "NameError",
          "evalue": "name 'tf' is not defined",
          "traceback": [
            "\u001b[0;31m---------------------------------------------------------------------------\u001b[0m",
            "\u001b[0;31mNameError\u001b[0m                                 Traceback (most recent call last)",
            "\u001b[0;32m<ipython-input-5-d4fca2eb994a>\u001b[0m in \u001b[0;36m<cell line: 0>\u001b[0;34m()\u001b[0m\n\u001b[1;32m     11\u001b[0m \u001b[0mtimes\u001b[0m \u001b[0;34m=\u001b[0m \u001b[0mnp\u001b[0m\u001b[0;34m.\u001b[0m\u001b[0mlinspace\u001b[0m\u001b[0;34m(\u001b[0m\u001b[0;36m0.\u001b[0m\u001b[0;34m,\u001b[0m \u001b[0;36m1\u001b[0m\u001b[0;34m,\u001b[0m \u001b[0mnum\u001b[0m\u001b[0;34m=\u001b[0m\u001b[0;36m50\u001b[0m\u001b[0;34m)\u001b[0m\u001b[0;34m\u001b[0m\u001b[0;34m\u001b[0m\u001b[0m\n\u001b[1;32m     12\u001b[0m \u001b[0mnum_samples\u001b[0m \u001b[0;34m=\u001b[0m \u001b[0;36m100000\u001b[0m\u001b[0;34m\u001b[0m\u001b[0;34m\u001b[0m\u001b[0m\n\u001b[0;32m---> 13\u001b[0;31m log_paths = tf.function(tff.models.euler_sampling.sample)(\n\u001b[0m\u001b[1;32m     14\u001b[0m         \u001b[0mdim\u001b[0m\u001b[0;34m=\u001b[0m\u001b[0;36m1\u001b[0m\u001b[0;34m,\u001b[0m\u001b[0;34m\u001b[0m\u001b[0;34m\u001b[0m\u001b[0m\n\u001b[1;32m     15\u001b[0m         \u001b[0mdrift_fn\u001b[0m\u001b[0;34m=\u001b[0m\u001b[0mdrift_fn\u001b[0m\u001b[0;34m,\u001b[0m \u001b[0mvolatility_fn\u001b[0m\u001b[0;34m=\u001b[0m\u001b[0mvol_fn\u001b[0m\u001b[0;34m,\u001b[0m\u001b[0;34m\u001b[0m\u001b[0;34m\u001b[0m\u001b[0m\n",
            "\u001b[0;31mNameError\u001b[0m: name 'tf' is not defined"
          ]
        }
      ]
    },
    {
      "cell_type": "code",
      "source": [],
      "metadata": {
        "id": "Icxjb8-xtbyV"
      },
      "execution_count": null,
      "outputs": []
    }
  ]
}