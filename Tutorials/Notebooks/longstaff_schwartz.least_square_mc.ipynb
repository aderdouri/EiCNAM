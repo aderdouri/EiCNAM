{
  "nbformat": 4,
  "nbformat_minor": 0,
  "metadata": {
    "colab": {
      "provenance": [],
      "authorship_tag": "ABX9TyMhzth+ZOXlQdhj8lIvAXbX",
      "include_colab_link": true
    },
    "kernelspec": {
      "name": "python3",
      "display_name": "Python 3"
    },
    "language_info": {
      "name": "python"
    }
  },
  "cells": [
    {
      "cell_type": "markdown",
      "metadata": {
        "id": "view-in-github",
        "colab_type": "text"
      },
      "source": [
        "<a href=\"https://colab.research.google.com/github/aderdouri/EiCNAM/blob/master/Tutorials/Notebooks/longstaff_schwartz.least_square_mc.ipynb\" target=\"_parent\"><img src=\"https://colab.research.google.com/assets/colab-badge.svg\" alt=\"Open In Colab\"/></a>"
      ]
    },
    {
      "cell_type": "code",
      "source": [
        "import os\n",
        "os.environ['PROTOCOL_BUFFERS_PYTHON_IMPLEMENTATION']='python'"
      ],
      "metadata": {
        "id": "4HjNvEZJWMW_"
      },
      "execution_count": 1,
      "outputs": []
    },
    {
      "cell_type": "code",
      "source": [
        "!pip install tf-quant-finance"
      ],
      "metadata": {
        "colab": {
          "base_uri": "https://localhost:8080/"
        },
        "id": "zc4gFBnoV2Bi",
        "outputId": "5c463763-4358-4f06-f8b7-f3438a1345f4"
      },
      "execution_count": 2,
      "outputs": [
        {
          "output_type": "stream",
          "name": "stdout",
          "text": [
            "Collecting tf-quant-finance\n",
            "  Downloading tf_quant_finance-0.0.1.dev34-py2.py3-none-any.whl.metadata (10 kB)\n",
            "Requirement already satisfied: attrs>=18.2.0 in /usr/local/lib/python3.11/dist-packages (from tf-quant-finance) (24.3.0)\n",
            "Requirement already satisfied: tensorflow-probability>=0.12.1 in /usr/local/lib/python3.11/dist-packages (from tf-quant-finance) (0.24.0)\n",
            "Requirement already satisfied: numpy>=1.21 in /usr/local/lib/python3.11/dist-packages (from tf-quant-finance) (1.26.4)\n",
            "Requirement already satisfied: protobuf in /usr/local/lib/python3.11/dist-packages (from tf-quant-finance) (4.25.5)\n",
            "Requirement already satisfied: absl-py in /usr/local/lib/python3.11/dist-packages (from tensorflow-probability>=0.12.1->tf-quant-finance) (1.4.0)\n",
            "Requirement already satisfied: six>=1.10.0 in /usr/local/lib/python3.11/dist-packages (from tensorflow-probability>=0.12.1->tf-quant-finance) (1.17.0)\n",
            "Requirement already satisfied: decorator in /usr/local/lib/python3.11/dist-packages (from tensorflow-probability>=0.12.1->tf-quant-finance) (4.4.2)\n",
            "Requirement already satisfied: cloudpickle>=1.3 in /usr/local/lib/python3.11/dist-packages (from tensorflow-probability>=0.12.1->tf-quant-finance) (3.1.0)\n",
            "Requirement already satisfied: gast>=0.3.2 in /usr/local/lib/python3.11/dist-packages (from tensorflow-probability>=0.12.1->tf-quant-finance) (0.6.0)\n",
            "Requirement already satisfied: dm-tree in /usr/local/lib/python3.11/dist-packages (from tensorflow-probability>=0.12.1->tf-quant-finance) (0.1.8)\n",
            "Downloading tf_quant_finance-0.0.1.dev34-py2.py3-none-any.whl (1.4 MB)\n",
            "\u001b[2K   \u001b[90m━━━━━━━━━━━━━━━━━━━━━━━━━━━━━━━━━━━━━━━━\u001b[0m \u001b[32m1.4/1.4 MB\u001b[0m \u001b[31m1.4 MB/s\u001b[0m eta \u001b[36m0:00:00\u001b[0m\n",
            "\u001b[?25hInstalling collected packages: tf-quant-finance\n",
            "Successfully installed tf-quant-finance-0.0.1.dev34\n"
          ]
        }
      ]
    },
    {
      "cell_type": "code",
      "source": [
        "import numpy as np\n",
        "import tensorflow as tf\n",
        "import tensorflow_probability as tfp\n",
        "import tf_quant_finance as tff\n",
        "\n",
        "from tf_quant_finance.experimental.lsm_algorithm import make_basket_put_payoff\n",
        "from tf_quant_finance.experimental.lsm_algorithm import make_polynomial_basis\n",
        "from tf_quant_finance.experimental.lsm_algorithm import least_square_mc"
      ],
      "metadata": {
        "id": "ZyhFzGWOWD-X"
      },
      "execution_count": 3,
      "outputs": []
    },
    {
      "cell_type": "code",
      "source": [
        "# Define parameters\n",
        "S0 = 100.0  # Initial stock price\n",
        "sigma = 0.25  # Volatility\n",
        "rate = 0.05  # Risk-free rate\n",
        "expiry = 180 / 365  # Time to maturity (in years)\n",
        "strike = 110.0  # Strike price\n",
        "num_samples = 100000  # Number of Monte Carlo paths\n",
        "time_steps = 50  # Number of time steps for Euler scheme\n",
        "\n",
        "# Drift and volatility functions for log(S_t)\n",
        "def drift_fn(_, x):\n",
        "    return (rate - 0.5 * sigma ** 2) * tf.ones_like(x, dtype=tf.float64)\n",
        "\n",
        "def vol_fn(_, x):\n",
        "    return tf.expand_dims(sigma * tf.ones_like(x, dtype=tf.float64), axis=-1)\n",
        "\n",
        "# Euler Scheme to Simulate Log Stock Price Paths\n",
        "times = np.linspace(0.0, expiry, num=time_steps, dtype=np.float64)\n",
        "log_paths = tf.function(tff.models.euler_sampling.sample)(\n",
        "    dim=1,\n",
        "    drift_fn=drift_fn,\n",
        "    volatility_fn=vol_fn,\n",
        "    initial_state=[tf.math.log(S0)],\n",
        "    random_type=tff.math.random.RandomType.PSEUDO_ANTITHETIC,\n",
        "    times=times,\n",
        "    num_samples=num_samples,\n",
        "    seed=42,\n",
        "    time_step=expiry / time_steps\n",
        ")\n",
        "\n",
        "# Compute Stock Prices (Exponentiate Log Paths)\n",
        "paths = tf.exp(log_paths)\n",
        "\n",
        "# Define variables for American option pricing\n",
        "exercise_times = tf.range(times.shape[-1])\n",
        "discount_factors = tf.exp(-rate * times)\n",
        "\n",
        "payoff_fn = make_basket_put_payoff(strike, dtype=tf.float64)  # Built-in payoff function\n",
        "basis_fn = make_polynomial_basis(10)  # Built-in polynomial basis function\n",
        "\n",
        "# American put option price using Least Squares Monte Carlo\n",
        "american_option_price = least_square_mc(\n",
        "    paths,\n",
        "    exercise_times,\n",
        "    payoff_fn,\n",
        "    basis_fn,\n",
        "    discount_factors=discount_factors\n",
        ")\n",
        "\n",
        "# European put option price using Black-Scholes formula\n",
        "european_option_price = tff.black_scholes.option_price(\n",
        "    volatilities=[sigma],\n",
        "    strikes=[strike],\n",
        "    expiries=[expiry],\n",
        "    spots=[S0],\n",
        "    discount_factors=discount_factors[-1],\n",
        "    is_call_options=False,\n",
        "    dtype=tf.float64\n",
        ")\n",
        "\n",
        "# Display Results\n",
        "print(f\"American Put Option Price: {american_option_price.numpy()}\")\n",
        "print(f\"European Put Option Price: {european_option_price.numpy()}\")"
      ],
      "metadata": {
        "id": "jOGRRQiSmEiA",
        "outputId": "e0880edc-5b45-4f83-a9ba-d8b8d345a052",
        "colab": {
          "base_uri": "https://localhost:8080/"
        }
      },
      "execution_count": 13,
      "outputs": [
        {
          "output_type": "stream",
          "name": "stdout",
          "text": [
            "American Put Option Price: [9.9999936]\n",
            "European Put Option Price: [11.4889608]\n"
          ]
        }
      ]
    },
    {
      "cell_type": "code",
      "execution_count": 5,
      "metadata": {
        "colab": {
          "base_uri": "https://localhost:8080/"
        },
        "id": "1aEodEw_o3pm",
        "outputId": "9cac55bd-aabc-4f02-ec71-35d78291ae6c"
      },
      "outputs": [
        {
          "output_type": "stream",
          "name": "stdout",
          "text": [
            "Estimated American option price: 0.4120134543840609\n"
          ]
        }
      ],
      "source": [
        "import numpy as np\n",
        "import pandas as pd\n",
        "\n",
        "def longstaff_schwartz(paths, strike, discount_rate, exercise_dates):\n",
        "    \"\"\"\n",
        "    Longstaff-Schwartz algorithm for American option pricing.\n",
        "\n",
        "    Args:\n",
        "        paths: A NumPy array of shape (number_of_paths, number_of_time_steps)\n",
        "        representing the simulated asset price paths.\n",
        "        strike: The strike price for the option. # Changed from strikes to strike\n",
        "        discount_rate: The risk-free discount rate.\n",
        "        exercise_dates: A list or array of exercise dates (timesteps).\n",
        "\n",
        "    Returns:\n",
        "        The estimated price of the American option.\n",
        "    \"\"\"\n",
        "\n",
        "    n_paths = paths.shape[0]\n",
        "    n_steps = paths.shape[1]\n",
        "\n",
        "    # Initialize the continuation values and cashflows\n",
        "    continuation_values = np.zeros(n_paths)\n",
        "    cashflows = np.zeros(n_paths)\n",
        "\n",
        "    # Iterate backward through the time steps\n",
        "    for t in reversed(range(0, n_steps - 1)): # Iterate up to second to last timestep\n",
        "        # Determine intrinsic value of option\n",
        "        intrinsic_value = np.maximum(0, paths[:, t + 1] - strike) # Changed paths[t + 1] to paths[:, t + 1] and strikes to strike\n",
        "\n",
        "        # Fit a regression model to estimate continuation value\n",
        "        if np.any(intrinsic_value): # Only perform regression if there are positive intrinsic values\n",
        "          regression_data = pd.DataFrame({'Price': paths[:, t], 'IntrinsicValue': intrinsic_value}) # Changed paths[t] to paths[:, t]\n",
        "          regression = np.polyfit(regression_data['Price'], regression_data['IntrinsicValue'], 3)\n",
        "          continuation_values = np.polyval(regression, paths[:, t]) # Changed paths[t] to paths[:, t]\n",
        "        else:\n",
        "            continuation_values = np.zeros(n_paths) # if intrinsic is always zero\n",
        "\n",
        "        # Compare intrinsic value to continuation value, updating cash flows\n",
        "        exercise = intrinsic_value > continuation_values\n",
        "        cashflows[exercise] = intrinsic_value[exercise]\n",
        "\n",
        "        # Discount cash flows to previous time step\n",
        "        continuation_values = np.where(exercise, 0, continuation_values) # update value of continuation values\n",
        "\n",
        "        # discount all values at each timestep\n",
        "        continuation_values = continuation_values / (1+discount_rate)\n",
        "\n",
        "\n",
        "        # Update cash flows\n",
        "        cashflows = np.where(exercise, intrinsic_value, cashflows)\n",
        "\n",
        "    return np.mean(cashflows)\n",
        "\n",
        "# Example Usage (replace with your data)\n",
        "np.random.seed(0)\n",
        "n_paths = 10000\n",
        "n_steps = 100\n",
        "paths = np.random.randn(n_paths, n_steps).cumsum(axis=1)\n",
        "strike = 1.0  # Example strike price # Changed strikes to strike\n",
        "\n",
        "discount_rate = 0.05\n",
        "exercise_dates = list(range(0, n_steps))\n",
        "\n",
        "option_price = longstaff_schwartz(paths, strike, discount_rate, exercise_dates) # Changed strikes to strike\n",
        "print(f\"Estimated American option price: {option_price}\")"
      ]
    },
    {
      "cell_type": "code",
      "source": [],
      "metadata": {
        "id": "Icxjb8-xtbyV"
      },
      "execution_count": null,
      "outputs": []
    }
  ]
}