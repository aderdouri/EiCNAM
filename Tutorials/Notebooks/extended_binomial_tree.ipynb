{
  "nbformat": 4,
  "nbformat_minor": 0,
  "metadata": {
    "colab": {
      "private_outputs": true,
      "provenance": [],
      "authorship_tag": "ABX9TyMKO22jOorxu9pRyZxSz6hL",
      "include_colab_link": true
    },
    "kernelspec": {
      "name": "python3",
      "display_name": "Python 3"
    }
  },
  "cells": [
    {
      "cell_type": "markdown",
      "metadata": {
        "id": "view-in-github",
        "colab_type": "text"
      },
      "source": [
        "<a href=\"https://colab.research.google.com/github/aderdouri/EiCNAM/blob/master/Tutorials/Notebooks/extended_binomial_tree.ipynb\" target=\"_parent\"><img src=\"https://colab.research.google.com/assets/colab-badge.svg\" alt=\"Open In Colab\"/></a>"
      ]
    },
    {
      "cell_type": "markdown",
      "source": [
        "## Extended Binomial Tree for Option Pricing\n",
        "\n",
        "### Theory\n",
        "The price of an option satisfies the following partial differential equation (PDE):\n",
        "$$\n",
        "\\frac{\\partial V}{\\partial t} + \\frac{1}{2} \\sigma^2(S, t) S^2 \\frac{\\partial^2 V}{\\partial S^2} + r S \\frac{\\partial V}{\\partial S} - r V = 0,\n",
        "$$\n",
        "where:\n",
        "- $V$: Option price\n",
        "- $S$: Underlying asset price\n",
        "- $\\sigma(S, t)$: Volatility, which is state-dependent\n",
        "- $r$: Risk-free rate\n",
        "\n",
        "The extended binomial tree discretizes this PDE with state-dependent volatility to approximate the option value.\n",
        "\n",
        "## Algorithm\n",
        "- Discretize the time to maturity $T$ into $N$ steps, with each step $\\Delta t = \\frac{T}{N}$.\n",
        "- At each time step, compute the up ($u$) and down ($d$) factors based on state-dependent volatility:\n",
        "$$\n",
        "u(S, t) = e^{\\sigma(S, t) \\sqrt{\\Delta t}}, \\quad d(S, t) = \\frac{1}{u(S, t)}.\n",
        "$$\n",
        "\\item Compute the transition probabilities ensuring risk neutrality:\n",
        "$$\n",
        "p = \\frac{e^{r \\Delta t} - d(S, t)}{u(S, t) - d(S, t)}.\n",
        "$$\n",
        "\\item Apply backward induction:\n",
        "$$\n",
        "V(S, t) = \\max\\left(P(S), e^{-r \\Delta t} [p V(Su, t+1) + (1-p) V(Sd, t+1)]\\right).\n",
        "$$"
      ],
      "metadata": {
        "id": "AW_eooKmOCWj"
      }
    },
    {
      "cell_type": "code",
      "source": [
        "import numpy as np\n",
        "import matplotlib.pyplot as plt\n",
        "\n",
        "def extended_binomial_tree(S0, K, T, r, sigma_func, N, option_type=\"put\"):\n",
        "    \"\"\"\n",
        "    Extended binomial tree for option pricing with state-dependent volatility.\n",
        "\n",
        "    Args:\n",
        "        S0: Initial stock price.\n",
        "        K: Strike price.\n",
        "        T: Time to maturity.\n",
        "        r: Risk-free rate.\n",
        "        sigma_func: Function for state-dependent volatility, sigma(S, t).\n",
        "        N: Number of steps in the tree.\n",
        "        option_type: \"call\" or \"put\".\n",
        "\n",
        "    Returns:\n",
        "        Option price.\n",
        "    \"\"\"\n",
        "    dt = T / N  # Time step\n",
        "    u = lambda S, t: np.exp(sigma_func(S, t) * np.sqrt(dt))  # Up factor\n",
        "    d = lambda S, t: 1 / u(S, t)  # Down factor\n",
        "\n",
        "    # Initialize asset prices at maturity\n",
        "    prices = np.zeros((N + 1, N + 1))\n",
        "    prices[0, 0] = S0\n",
        "    for i in range(1, N + 1):\n",
        "        for j in range(i + 1):\n",
        "            prices[j, i] = S0 * u(prices[j, i - 1], i * dt) if j == 0 else prices[j - 1, i - 1] * d(prices[j - 1, i - 1], i * dt)\n",
        "\n",
        "    # Initialize option values at maturity\n",
        "    option_values = np.maximum(0, K - prices[:, N]) if option_type == \"put\" else np.maximum(0, prices[:, N] - K)\n",
        "\n",
        "    # Backward induction\n",
        "    for i in reversed(range(N)):\n",
        "        for j in range(i + 1):\n",
        "            p = (np.exp(r * dt) - d(prices[j, i], i * dt)) / (u(prices[j, i], i * dt) - d(prices[j, i], i * dt))\n",
        "            continuation_value = np.exp(-r * dt) * (p * option_values[j, i + 1] + (1 - p) * option_values[j + 1, i + 1])\n",
        "            exercise_value = K - prices[j, i] if option_type == \"put\" else prices[j, i] - K\n",
        "            option_values[j, i] = max(continuation_value, exercise_value)\n",
        "\n",
        "    return option_values[0, 0]\n",
        "\n",
        "# Example: American Put Option with State-Dependent Volatility\n",
        "S0 = 100  # Initial stock price\n",
        "K = 100   # Strike price\n",
        "T = 1.0   # Time to maturity (1 year)\n",
        "r = 0.05  # Risk-free rate\n",
        "sigma_func = lambda S, t: 0.2 + 0.1 * np.sin(t)  # Example state-dependent volatility\n",
        "N = 100   # Number of steps\n",
        "\n",
        "price = extended_binomial_tree(S0, K, T, r, sigma_func, N, option_type=\"put\")\n",
        "print(f\"American put option price: {price:.4f}\")\n",
        "\n",
        "# Visualization of Volatility\n",
        "time_points = np.linspace(0, T, 100)\n",
        "volatilities = [sigma_func(S0, t) for t in time_points]\n",
        "\n",
        "plt.figure(figsize=(10, 6))\n",
        "plt.plot(time_points, volatilities, label=\"Volatility: $\\\\sigma(S, t)$\")\n",
        "plt.xlabel(\"Time (t)\")\n",
        "plt.ylabel(\"Volatility ($\\\\sigma$)\")\n",
        "plt.title(\"State-Dependent Volatility\")\n",
        "plt.legend()\n",
        "plt.grid()\n",
        "plt.show()\n",
        "\\end{lstlisting}\n",
        "\n",
        "\\end{document}\n"
      ],
      "metadata": {
        "id": "XB748pz42uiU"
      },
      "execution_count": null,
      "outputs": []
    },
    {
      "cell_type": "code",
      "source": [],
      "metadata": {
        "id": "6RsbkJuEOHAz"
      },
      "execution_count": null,
      "outputs": []
    }
  ]
}