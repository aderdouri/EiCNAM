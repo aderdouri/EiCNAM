{
  "nbformat": 4,
  "nbformat_minor": 0,
  "metadata": {
    "colab": {
      "private_outputs": true,
      "provenance": [],
      "authorship_tag": "ABX9TyPyzxTbPOgDJckZjH+pn7vE",
      "include_colab_link": true
    },
    "kernelspec": {
      "name": "python3",
      "display_name": "Python 3"
    }
  },
  "cells": [
    {
      "cell_type": "markdown",
      "metadata": {
        "id": "view-in-github",
        "colab_type": "text"
      },
      "source": [
        "<a href=\"https://colab.research.google.com/github/aderdouri/EiCNAM/blob/master/Tutorials/european_call_cva.ipynb\" target=\"_parent\"><img src=\"https://colab.research.google.com/assets/colab-badge.svg\" alt=\"Open In Colab\"/></a>"
      ]
    },
    {
      "cell_type": "code",
      "source": [
        "import torch\n",
        "\n",
        "# Parameters for the European call option\n",
        "S0 = 100.0  # Initial stock price\n",
        "K = 90.0  # Strike price\n",
        "T = 2.0  # Time to maturity (2 years)\n",
        "r = 0.01  # Risk-free rate\n",
        "sigma = 0.25  # Volatility\n",
        "\n",
        "# CVA and intensity model parameters\n",
        "LGD = 0.6  # Loss given default (e.g., 60%)\n",
        "lambda_0 = 1.0  # Initial hazard rate\n",
        "k = 0.5  # Mean-reversion speed\n",
        "mu = 1.0  # Long-term mean of intensity\n",
        "nu = 0.25  # Volatility of intensity\n",
        "n_paths = 10000  # Number of Monte Carlo simulations\n",
        "time_steps = 100  # Number of time steps in the simulation\n",
        "\n",
        "# Generate time grid\n",
        "dt = T / time_steps\n",
        "time_grid = torch.linspace(0, T, time_steps)\n",
        "\n",
        "# Simulate stock price paths using Geometric Brownian Motion (GBM)\n",
        "# Simulate stock price paths using Geometric Brownian Motion (GBM)\n",
        "def simulate_stock_paths(S0, r, sigma, T, time_steps, n_paths):\n",
        "    dt = T / time_steps\n",
        "    # Convert dt to a PyTorch tensor\n",
        "    dt = torch.tensor(dt, dtype=torch.float32)\n",
        "    Z = torch.randn(n_paths, time_steps)  # Random shocks\n",
        "    increments = (r - 0.5 * sigma**2) * dt + sigma * torch.sqrt(dt) * Z\n",
        "    increments = torch.cat([torch.zeros(n_paths, 1), increments], dim=1)  # Initial price\n",
        "    log_S = torch.cumsum(increments, dim=1)\n",
        "    S = S0 * torch.exp(log_S)\n",
        "    return S\n",
        "\n",
        "# Simulate default times using an intensity model\n",
        "def simulate_default_times(lambda_0, time_steps, T, n_paths):\n",
        "    dt = T / time_steps\n",
        "    # Convert lambda_0 and dt to tensors\n",
        "    lambda_0 = torch.tensor(lambda_0, dtype=torch.float32)\n",
        "    dt = torch.tensor(dt, dtype=torch.float32)\n",
        "    default_probs = 1 - torch.exp(-lambda_0 * dt)  # Default probabilities per step\n",
        "    defaults = torch.rand(n_paths, time_steps) < default_probs  # Simulate defaults\n",
        "    # Convert defaults to integer type before applying argmax\n",
        "    default_times = torch.argmax(defaults.type(torch.int), dim=1) * dt  # First default time\n",
        "    default_times[default_times == 0] = T + 1  # No default\n",
        "    return default_times\n",
        "\n",
        "\n",
        "# Calculate CVA\n",
        "def calculate_cva(LGD, S, K, T, r, lambda_0, default_times, time_grid):\n",
        "    # Compute option payoff at maturity\n",
        "    payoffs = torch.maximum(S[:, -1] - K, torch.tensor(0.0))  # Max(S_T - K, 0)\n",
        "\n",
        "    # Discount factor to maturity\n",
        "    discount_factors = torch.exp(-torch.tensor(r, dtype=torch.float32) * torch.tensor(T, dtype=torch.float32)) # Convert r and T to tensors\n",
        "\n",
        "    # Compute survival probabilities\n",
        "    survival_probs = torch.exp(-lambda_0 * time_grid[-1])\n",
        "\n",
        "    # Compute CVA\n",
        "    cva = LGD * torch.mean((1 - survival_probs) * discount_factors * payoffs)\n",
        "    return cva.item()\n",
        "\n",
        "# Simulate stock prices and default times\n",
        "S = simulate_stock_paths(S0, r, sigma, T, time_steps, n_paths)\n",
        "default_times = simulate_default_times(lambda_0, time_steps, T, n_paths)\n",
        "\n",
        "# Calculate CVA\n",
        "cva = calculate_cva(LGD, S, K, T, r, lambda_0, default_times, time_grid)\n",
        "\n",
        "print(f\"Calculated CVA: {cva:.4f}\")"
      ],
      "metadata": {
        "id": "-_yVB2PTzr1t"
      },
      "execution_count": null,
      "outputs": []
    },
    {
      "cell_type": "code",
      "source": [],
      "metadata": {
        "id": "aYvv8o5IAGfg"
      },
      "execution_count": null,
      "outputs": []
    }
  ]
}